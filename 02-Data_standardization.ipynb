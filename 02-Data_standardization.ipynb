{
 "cells": [
  {
   "cell_type": "code",
   "execution_count": 1,
   "id": "0b8a1edc",
   "metadata": {},
   "outputs": [],
   "source": [
    "import pandas as pd"
   ]
  },
  {
   "cell_type": "code",
   "execution_count": 2,
   "id": "f62e220e",
   "metadata": {},
   "outputs": [],
   "source": [
    "import numpy as np"
   ]
  },
  {
   "cell_type": "code",
   "execution_count": 3,
   "id": "aaf401f4",
   "metadata": {},
   "outputs": [],
   "source": [
    "from sklearn import preprocessing"
   ]
  },
  {
   "cell_type": "code",
   "execution_count": 4,
   "id": "91bcc893",
   "metadata": {},
   "outputs": [],
   "source": [
    "import seaborn as sns"
   ]
  },
  {
   "cell_type": "code",
   "execution_count": 5,
   "id": "487e6a0c",
   "metadata": {},
   "outputs": [],
   "source": [
    "import matplotlib.pyplot as plt"
   ]
  },
  {
   "cell_type": "code",
   "execution_count": 6,
   "id": "88ed13d8",
   "metadata": {},
   "outputs": [],
   "source": [
    "wine = pd.read_csv(\"D:/input/wine.csv\")"
   ]
  },
  {
   "cell_type": "code",
   "execution_count": 13,
   "id": "9e97d7a7",
   "metadata": {},
   "outputs": [
    {
     "data": {
      "text/html": [
       "<div>\n",
       "<style scoped>\n",
       "    .dataframe tbody tr th:only-of-type {\n",
       "        vertical-align: middle;\n",
       "    }\n",
       "\n",
       "    .dataframe tbody tr th {\n",
       "        vertical-align: top;\n",
       "    }\n",
       "\n",
       "    .dataframe thead th {\n",
       "        text-align: right;\n",
       "    }\n",
       "</style>\n",
       "<table border=\"1\" class=\"dataframe\">\n",
       "  <thead>\n",
       "    <tr style=\"text-align: right;\">\n",
       "      <th></th>\n",
       "      <th>Class</th>\n",
       "      <th>Alcohol</th>\n",
       "      <th>Malic acid</th>\n",
       "      <th>Attribute</th>\n",
       "      <th>Unnamed: 4</th>\n",
       "      <th>Unnamed: 5</th>\n",
       "      <th>Unnamed: 6</th>\n",
       "      <th>Unnamed: 7</th>\n",
       "      <th>Unnamed: 8</th>\n",
       "      <th>Unnamed: 9</th>\n",
       "      <th>Unnamed: 10</th>\n",
       "      <th>Unnamed: 11</th>\n",
       "      <th>Unnamed: 12</th>\n",
       "      <th>Unnamed: 13</th>\n",
       "    </tr>\n",
       "  </thead>\n",
       "  <tbody>\n",
       "    <tr>\n",
       "      <th>0</th>\n",
       "      <td>1</td>\n",
       "      <td>14.23</td>\n",
       "      <td>1.71</td>\n",
       "      <td>2.43</td>\n",
       "      <td>15.6</td>\n",
       "      <td>127</td>\n",
       "      <td>2.80</td>\n",
       "      <td>3.06</td>\n",
       "      <td>0.28</td>\n",
       "      <td>2.29</td>\n",
       "      <td>5.64</td>\n",
       "      <td>1.04</td>\n",
       "      <td>3.92</td>\n",
       "      <td>1065</td>\n",
       "    </tr>\n",
       "    <tr>\n",
       "      <th>1</th>\n",
       "      <td>1</td>\n",
       "      <td>13.20</td>\n",
       "      <td>1.78</td>\n",
       "      <td>2.14</td>\n",
       "      <td>11.2</td>\n",
       "      <td>100</td>\n",
       "      <td>2.65</td>\n",
       "      <td>2.76</td>\n",
       "      <td>0.26</td>\n",
       "      <td>1.28</td>\n",
       "      <td>4.38</td>\n",
       "      <td>1.05</td>\n",
       "      <td>3.40</td>\n",
       "      <td>1050</td>\n",
       "    </tr>\n",
       "    <tr>\n",
       "      <th>2</th>\n",
       "      <td>1</td>\n",
       "      <td>13.16</td>\n",
       "      <td>2.36</td>\n",
       "      <td>2.67</td>\n",
       "      <td>18.6</td>\n",
       "      <td>101</td>\n",
       "      <td>2.80</td>\n",
       "      <td>3.24</td>\n",
       "      <td>0.30</td>\n",
       "      <td>2.81</td>\n",
       "      <td>5.68</td>\n",
       "      <td>1.03</td>\n",
       "      <td>3.17</td>\n",
       "      <td>1185</td>\n",
       "    </tr>\n",
       "    <tr>\n",
       "      <th>3</th>\n",
       "      <td>1</td>\n",
       "      <td>14.37</td>\n",
       "      <td>1.95</td>\n",
       "      <td>2.50</td>\n",
       "      <td>16.8</td>\n",
       "      <td>113</td>\n",
       "      <td>3.85</td>\n",
       "      <td>3.49</td>\n",
       "      <td>0.24</td>\n",
       "      <td>2.18</td>\n",
       "      <td>7.80</td>\n",
       "      <td>0.86</td>\n",
       "      <td>3.45</td>\n",
       "      <td>1480</td>\n",
       "    </tr>\n",
       "    <tr>\n",
       "      <th>4</th>\n",
       "      <td>1</td>\n",
       "      <td>13.24</td>\n",
       "      <td>2.59</td>\n",
       "      <td>2.87</td>\n",
       "      <td>21.0</td>\n",
       "      <td>118</td>\n",
       "      <td>2.80</td>\n",
       "      <td>2.69</td>\n",
       "      <td>0.39</td>\n",
       "      <td>1.82</td>\n",
       "      <td>4.32</td>\n",
       "      <td>1.04</td>\n",
       "      <td>2.93</td>\n",
       "      <td>735</td>\n",
       "    </tr>\n",
       "    <tr>\n",
       "      <th>5</th>\n",
       "      <td>1</td>\n",
       "      <td>14.20</td>\n",
       "      <td>1.76</td>\n",
       "      <td>2.45</td>\n",
       "      <td>15.2</td>\n",
       "      <td>112</td>\n",
       "      <td>3.27</td>\n",
       "      <td>3.39</td>\n",
       "      <td>0.34</td>\n",
       "      <td>1.97</td>\n",
       "      <td>6.75</td>\n",
       "      <td>1.05</td>\n",
       "      <td>2.85</td>\n",
       "      <td>1450</td>\n",
       "    </tr>\n",
       "    <tr>\n",
       "      <th>6</th>\n",
       "      <td>1</td>\n",
       "      <td>14.39</td>\n",
       "      <td>1.87</td>\n",
       "      <td>2.45</td>\n",
       "      <td>14.6</td>\n",
       "      <td>96</td>\n",
       "      <td>2.50</td>\n",
       "      <td>2.52</td>\n",
       "      <td>0.30</td>\n",
       "      <td>1.98</td>\n",
       "      <td>5.25</td>\n",
       "      <td>1.02</td>\n",
       "      <td>3.58</td>\n",
       "      <td>1290</td>\n",
       "    </tr>\n",
       "    <tr>\n",
       "      <th>7</th>\n",
       "      <td>1</td>\n",
       "      <td>14.06</td>\n",
       "      <td>2.15</td>\n",
       "      <td>2.61</td>\n",
       "      <td>17.6</td>\n",
       "      <td>121</td>\n",
       "      <td>2.60</td>\n",
       "      <td>2.51</td>\n",
       "      <td>0.31</td>\n",
       "      <td>1.25</td>\n",
       "      <td>5.05</td>\n",
       "      <td>1.06</td>\n",
       "      <td>3.58</td>\n",
       "      <td>1295</td>\n",
       "    </tr>\n",
       "    <tr>\n",
       "      <th>8</th>\n",
       "      <td>1</td>\n",
       "      <td>14.83</td>\n",
       "      <td>1.64</td>\n",
       "      <td>2.17</td>\n",
       "      <td>14.0</td>\n",
       "      <td>97</td>\n",
       "      <td>2.80</td>\n",
       "      <td>2.98</td>\n",
       "      <td>0.29</td>\n",
       "      <td>1.98</td>\n",
       "      <td>5.20</td>\n",
       "      <td>1.08</td>\n",
       "      <td>2.85</td>\n",
       "      <td>1045</td>\n",
       "    </tr>\n",
       "    <tr>\n",
       "      <th>9</th>\n",
       "      <td>1</td>\n",
       "      <td>13.86</td>\n",
       "      <td>1.35</td>\n",
       "      <td>2.27</td>\n",
       "      <td>16.0</td>\n",
       "      <td>98</td>\n",
       "      <td>2.98</td>\n",
       "      <td>3.15</td>\n",
       "      <td>0.22</td>\n",
       "      <td>1.85</td>\n",
       "      <td>7.22</td>\n",
       "      <td>1.01</td>\n",
       "      <td>3.55</td>\n",
       "      <td>1045</td>\n",
       "    </tr>\n",
       "  </tbody>\n",
       "</table>\n",
       "</div>"
      ],
      "text/plain": [
       "   Class  Alcohol  Malic acid  Attribute  Unnamed: 4  Unnamed: 5  Unnamed: 6  \\\n",
       "0      1    14.23        1.71       2.43        15.6         127        2.80   \n",
       "1      1    13.20        1.78       2.14        11.2         100        2.65   \n",
       "2      1    13.16        2.36       2.67        18.6         101        2.80   \n",
       "3      1    14.37        1.95       2.50        16.8         113        3.85   \n",
       "4      1    13.24        2.59       2.87        21.0         118        2.80   \n",
       "5      1    14.20        1.76       2.45        15.2         112        3.27   \n",
       "6      1    14.39        1.87       2.45        14.6          96        2.50   \n",
       "7      1    14.06        2.15       2.61        17.6         121        2.60   \n",
       "8      1    14.83        1.64       2.17        14.0          97        2.80   \n",
       "9      1    13.86        1.35       2.27        16.0          98        2.98   \n",
       "\n",
       "   Unnamed: 7  Unnamed: 8  Unnamed: 9  Unnamed: 10  Unnamed: 11  Unnamed: 12  \\\n",
       "0        3.06        0.28        2.29         5.64         1.04         3.92   \n",
       "1        2.76        0.26        1.28         4.38         1.05         3.40   \n",
       "2        3.24        0.30        2.81         5.68         1.03         3.17   \n",
       "3        3.49        0.24        2.18         7.80         0.86         3.45   \n",
       "4        2.69        0.39        1.82         4.32         1.04         2.93   \n",
       "5        3.39        0.34        1.97         6.75         1.05         2.85   \n",
       "6        2.52        0.30        1.98         5.25         1.02         3.58   \n",
       "7        2.51        0.31        1.25         5.05         1.06         3.58   \n",
       "8        2.98        0.29        1.98         5.20         1.08         2.85   \n",
       "9        3.15        0.22        1.85         7.22         1.01         3.55   \n",
       "\n",
       "   Unnamed: 13  \n",
       "0         1065  \n",
       "1         1050  \n",
       "2         1185  \n",
       "3         1480  \n",
       "4          735  \n",
       "5         1450  \n",
       "6         1290  \n",
       "7         1295  \n",
       "8         1045  \n",
       "9         1045  "
      ]
     },
     "execution_count": 13,
     "metadata": {},
     "output_type": "execute_result"
    }
   ],
   "source": [
    "wine.head(10)"
   ]
  },
  {
   "cell_type": "code",
   "execution_count": 14,
   "id": "8faa06b8",
   "metadata": {},
   "outputs": [],
   "source": [
    "wine = pd.read_csv(\"D:/input/wine.csv\")"
   ]
  },
  {
   "cell_type": "code",
   "execution_count": 15,
   "id": "8e67c5fa",
   "metadata": {},
   "outputs": [
    {
     "data": {
      "text/html": [
       "<div>\n",
       "<style scoped>\n",
       "    .dataframe tbody tr th:only-of-type {\n",
       "        vertical-align: middle;\n",
       "    }\n",
       "\n",
       "    .dataframe tbody tr th {\n",
       "        vertical-align: top;\n",
       "    }\n",
       "\n",
       "    .dataframe thead th {\n",
       "        text-align: right;\n",
       "    }\n",
       "</style>\n",
       "<table border=\"1\" class=\"dataframe\">\n",
       "  <thead>\n",
       "    <tr style=\"text-align: right;\">\n",
       "      <th></th>\n",
       "      <th>Class</th>\n",
       "      <th>Alcohol</th>\n",
       "      <th>Malic acid</th>\n",
       "      <th>Attribute</th>\n",
       "      <th>acidity</th>\n",
       "      <th>glossiness</th>\n",
       "      <th>Unnamed: 6</th>\n",
       "      <th>Unnamed: 7</th>\n",
       "      <th>Unnamed: 8</th>\n",
       "      <th>Unnamed: 9</th>\n",
       "      <th>Unnamed: 10</th>\n",
       "      <th>Unnamed: 11</th>\n",
       "      <th>Unnamed: 12</th>\n",
       "      <th>Unnamed: 13</th>\n",
       "    </tr>\n",
       "  </thead>\n",
       "  <tbody>\n",
       "    <tr>\n",
       "      <th>0</th>\n",
       "      <td>1</td>\n",
       "      <td>14.23</td>\n",
       "      <td>1.71</td>\n",
       "      <td>2.43</td>\n",
       "      <td>15.6</td>\n",
       "      <td>127</td>\n",
       "      <td>2.80</td>\n",
       "      <td>3.06</td>\n",
       "      <td>0.28</td>\n",
       "      <td>2.29</td>\n",
       "      <td>5.64</td>\n",
       "      <td>1.04</td>\n",
       "      <td>3.92</td>\n",
       "      <td>1065</td>\n",
       "    </tr>\n",
       "    <tr>\n",
       "      <th>1</th>\n",
       "      <td>1</td>\n",
       "      <td>13.20</td>\n",
       "      <td>1.78</td>\n",
       "      <td>2.14</td>\n",
       "      <td>11.2</td>\n",
       "      <td>100</td>\n",
       "      <td>2.65</td>\n",
       "      <td>2.76</td>\n",
       "      <td>0.26</td>\n",
       "      <td>1.28</td>\n",
       "      <td>4.38</td>\n",
       "      <td>1.05</td>\n",
       "      <td>3.40</td>\n",
       "      <td>1050</td>\n",
       "    </tr>\n",
       "    <tr>\n",
       "      <th>2</th>\n",
       "      <td>1</td>\n",
       "      <td>13.16</td>\n",
       "      <td>2.36</td>\n",
       "      <td>2.67</td>\n",
       "      <td>18.6</td>\n",
       "      <td>101</td>\n",
       "      <td>2.80</td>\n",
       "      <td>3.24</td>\n",
       "      <td>0.30</td>\n",
       "      <td>2.81</td>\n",
       "      <td>5.68</td>\n",
       "      <td>1.03</td>\n",
       "      <td>3.17</td>\n",
       "      <td>1185</td>\n",
       "    </tr>\n",
       "    <tr>\n",
       "      <th>3</th>\n",
       "      <td>1</td>\n",
       "      <td>14.37</td>\n",
       "      <td>1.95</td>\n",
       "      <td>2.50</td>\n",
       "      <td>16.8</td>\n",
       "      <td>113</td>\n",
       "      <td>3.85</td>\n",
       "      <td>3.49</td>\n",
       "      <td>0.24</td>\n",
       "      <td>2.18</td>\n",
       "      <td>7.80</td>\n",
       "      <td>0.86</td>\n",
       "      <td>3.45</td>\n",
       "      <td>1480</td>\n",
       "    </tr>\n",
       "    <tr>\n",
       "      <th>4</th>\n",
       "      <td>1</td>\n",
       "      <td>13.24</td>\n",
       "      <td>2.59</td>\n",
       "      <td>2.87</td>\n",
       "      <td>21.0</td>\n",
       "      <td>118</td>\n",
       "      <td>2.80</td>\n",
       "      <td>2.69</td>\n",
       "      <td>0.39</td>\n",
       "      <td>1.82</td>\n",
       "      <td>4.32</td>\n",
       "      <td>1.04</td>\n",
       "      <td>2.93</td>\n",
       "      <td>735</td>\n",
       "    </tr>\n",
       "    <tr>\n",
       "      <th>5</th>\n",
       "      <td>1</td>\n",
       "      <td>14.20</td>\n",
       "      <td>1.76</td>\n",
       "      <td>2.45</td>\n",
       "      <td>15.2</td>\n",
       "      <td>112</td>\n",
       "      <td>3.27</td>\n",
       "      <td>3.39</td>\n",
       "      <td>0.34</td>\n",
       "      <td>1.97</td>\n",
       "      <td>6.75</td>\n",
       "      <td>1.05</td>\n",
       "      <td>2.85</td>\n",
       "      <td>1450</td>\n",
       "    </tr>\n",
       "    <tr>\n",
       "      <th>6</th>\n",
       "      <td>1</td>\n",
       "      <td>14.39</td>\n",
       "      <td>1.87</td>\n",
       "      <td>2.45</td>\n",
       "      <td>14.6</td>\n",
       "      <td>96</td>\n",
       "      <td>2.50</td>\n",
       "      <td>2.52</td>\n",
       "      <td>0.30</td>\n",
       "      <td>1.98</td>\n",
       "      <td>5.25</td>\n",
       "      <td>1.02</td>\n",
       "      <td>3.58</td>\n",
       "      <td>1290</td>\n",
       "    </tr>\n",
       "    <tr>\n",
       "      <th>7</th>\n",
       "      <td>1</td>\n",
       "      <td>14.06</td>\n",
       "      <td>2.15</td>\n",
       "      <td>2.61</td>\n",
       "      <td>17.6</td>\n",
       "      <td>121</td>\n",
       "      <td>2.60</td>\n",
       "      <td>2.51</td>\n",
       "      <td>0.31</td>\n",
       "      <td>1.25</td>\n",
       "      <td>5.05</td>\n",
       "      <td>1.06</td>\n",
       "      <td>3.58</td>\n",
       "      <td>1295</td>\n",
       "    </tr>\n",
       "    <tr>\n",
       "      <th>8</th>\n",
       "      <td>1</td>\n",
       "      <td>14.83</td>\n",
       "      <td>1.64</td>\n",
       "      <td>2.17</td>\n",
       "      <td>14.0</td>\n",
       "      <td>97</td>\n",
       "      <td>2.80</td>\n",
       "      <td>2.98</td>\n",
       "      <td>0.29</td>\n",
       "      <td>1.98</td>\n",
       "      <td>5.20</td>\n",
       "      <td>1.08</td>\n",
       "      <td>2.85</td>\n",
       "      <td>1045</td>\n",
       "    </tr>\n",
       "    <tr>\n",
       "      <th>9</th>\n",
       "      <td>1</td>\n",
       "      <td>13.86</td>\n",
       "      <td>1.35</td>\n",
       "      <td>2.27</td>\n",
       "      <td>16.0</td>\n",
       "      <td>98</td>\n",
       "      <td>2.98</td>\n",
       "      <td>3.15</td>\n",
       "      <td>0.22</td>\n",
       "      <td>1.85</td>\n",
       "      <td>7.22</td>\n",
       "      <td>1.01</td>\n",
       "      <td>3.55</td>\n",
       "      <td>1045</td>\n",
       "    </tr>\n",
       "  </tbody>\n",
       "</table>\n",
       "</div>"
      ],
      "text/plain": [
       "   Class  Alcohol  Malic acid  Attribute  acidity  glossiness  Unnamed: 6  \\\n",
       "0      1    14.23        1.71       2.43     15.6         127        2.80   \n",
       "1      1    13.20        1.78       2.14     11.2         100        2.65   \n",
       "2      1    13.16        2.36       2.67     18.6         101        2.80   \n",
       "3      1    14.37        1.95       2.50     16.8         113        3.85   \n",
       "4      1    13.24        2.59       2.87     21.0         118        2.80   \n",
       "5      1    14.20        1.76       2.45     15.2         112        3.27   \n",
       "6      1    14.39        1.87       2.45     14.6          96        2.50   \n",
       "7      1    14.06        2.15       2.61     17.6         121        2.60   \n",
       "8      1    14.83        1.64       2.17     14.0          97        2.80   \n",
       "9      1    13.86        1.35       2.27     16.0          98        2.98   \n",
       "\n",
       "   Unnamed: 7  Unnamed: 8  Unnamed: 9  Unnamed: 10  Unnamed: 11  Unnamed: 12  \\\n",
       "0        3.06        0.28        2.29         5.64         1.04         3.92   \n",
       "1        2.76        0.26        1.28         4.38         1.05         3.40   \n",
       "2        3.24        0.30        2.81         5.68         1.03         3.17   \n",
       "3        3.49        0.24        2.18         7.80         0.86         3.45   \n",
       "4        2.69        0.39        1.82         4.32         1.04         2.93   \n",
       "5        3.39        0.34        1.97         6.75         1.05         2.85   \n",
       "6        2.52        0.30        1.98         5.25         1.02         3.58   \n",
       "7        2.51        0.31        1.25         5.05         1.06         3.58   \n",
       "8        2.98        0.29        1.98         5.20         1.08         2.85   \n",
       "9        3.15        0.22        1.85         7.22         1.01         3.55   \n",
       "\n",
       "   Unnamed: 13  \n",
       "0         1065  \n",
       "1         1050  \n",
       "2         1185  \n",
       "3         1480  \n",
       "4          735  \n",
       "5         1450  \n",
       "6         1290  \n",
       "7         1295  \n",
       "8         1045  \n",
       "9         1045  "
      ]
     },
     "execution_count": 15,
     "metadata": {},
     "output_type": "execute_result"
    }
   ],
   "source": [
    "wine.head(10)"
   ]
  },
  {
   "cell_type": "code",
   "execution_count": 16,
   "id": "5aeddf7f",
   "metadata": {},
   "outputs": [],
   "source": [
    "# 0-1标准化\n",
    "minmax_scale = preprocessing.MinMaxScaler().fit(wine[['acidity','glossiness']])\n",
    "np_minmax = minmax_scale.transform(wine[['acidity','glossiness']])\n",
    "# z-score标准化\n",
    "std_scale = preprocessing.StandardScaler().fit(wine[['acidity','glossiness']])\n",
    "np_std = std_scale.transform(wine[['acidity','glossiness']])"
   ]
  },
  {
   "cell_type": "code",
   "execution_count": 17,
   "id": "6af16de7",
   "metadata": {},
   "outputs": [
    {
     "name": "stdout",
     "output_type": "stream",
     "text": [
      "0-1标准化后两个指标的最小值：\n",
      " acidity最小值为 0.0 glossiness最小值为 0.0\n",
      "0-1标准化后两个指标的最大值：\n",
      " acidity最大值为 1.0 glossiness最大值为 1.0\n"
     ]
    }
   ],
   "source": [
    "# 0-1标准化后，两个特征变量的最小值\n",
    "print(\"0-1标准化后两个指标的最小值：\\n\", \"acidity最小值为\", np_minmax[:, 0].min(), \"glossiness最小值为\", np_minmax[:, 1].min())\n",
    "# 0-1标准化后，两个特征变量的最大值\n",
    "print(\"0-1标准化后两个指标的最大值：\\n\", \"acidity最大值为\", np_minmax[:, 0].max(), \"glossiness最大值为\", np_minmax[:, 1].max())"
   ]
  },
  {
   "cell_type": "code",
   "execution_count": 18,
   "id": "9347c015",
   "metadata": {},
   "outputs": [
    {
     "name": "stdout",
     "output_type": "stream",
     "text": [
      "z-score标准化后两个指标的最小值：\n",
      " acidity最小值为 -2.6710181364687173 glossiness最小值为 -2.0882551982316313\n",
      "z-score标准化后两个指标的最大值：\n",
      " acidity最大值为 3.1545107139410433 glossiness最大值为 4.371372139554768\n"
     ]
    }
   ],
   "source": [
    "# z-score标准化后，两个特征变量的最小值\n",
    "print(\"z-score标准化后两个指标的最小值：\\n\", \"acidity最小值为\", np_std[:, 0].min(), \"glossiness最小值为\", np_std[:, 1].min())\n",
    "# z-score标准化后，两个特征变量的最大值\n",
    "print(\"z-score标准化后两个指标的最大值：\\n\", \"acidity最大值为\", np_std[:, 0].max(), \"glossiness最大值为\", np_std[:, 1].max())"
   ]
  },
  {
   "cell_type": "code",
   "execution_count": 22,
   "id": "9af5da9e",
   "metadata": {},
   "outputs": [
    {
     "name": "stdout",
     "output_type": "stream",
     "text": [
      "0-1标准化后前五行\n",
      "[[0.25773196 0.61956522]\n",
      " [0.03092784 0.32608696]\n",
      " [0.41237113 0.33695652]\n",
      " [0.31958763 0.4673913 ]\n",
      " [0.53608247 0.52173913]\n",
      " [0.2371134  0.45652174]\n",
      " [0.20618557 0.2826087 ]\n",
      " [0.36082474 0.55434783]\n",
      " [0.17525773 0.29347826]\n",
      " [0.27835052 0.30434783]]\n"
     ]
    }
   ],
   "source": [
    "# 0-1标准化后\n",
    "print(\"0-1标准化后前十行\")\n",
    "print(np_minmax[0:10,:])"
   ]
  },
  {
   "cell_type": "code",
   "execution_count": 23,
   "id": "5713c738",
   "metadata": {},
   "outputs": [
    {
     "name": "stdout",
     "output_type": "stream",
     "text": [
      "z-score标准化后前十行\n",
      "[[-1.16959318  1.91390522]\n",
      " [-2.49084714  0.01814502]\n",
      " [-0.2687382   0.08835836]\n",
      " [-0.80925118  0.93091845]\n",
      " [ 0.45194578  1.28198515]\n",
      " [-1.28970717  0.86070511]\n",
      " [-1.46987817 -0.26270834]\n",
      " [-0.56902319  1.49262517]\n",
      " [-1.65004916 -0.192495  ]\n",
      " [-1.04947918 -0.12228166]]\n"
     ]
    }
   ],
   "source": [
    "# z-score标准化后\n",
    "print(\"z-score标准化后前十行\")\n",
    "print(np_std[0:10,:])"
   ]
  },
  {
   "cell_type": "code",
   "execution_count": 24,
   "id": "0bb35257",
   "metadata": {},
   "outputs": [],
   "source": [
    "# 获取数据备份\n",
    "df_minmax = wine.copy()\n",
    "df_std = wine.copy()\n",
    "# 将前面标准化后的数据替换进备份\n",
    "df_minmax[['acidity','glossiness']] = np_minmax\n",
    "df_std[['acidity','glossiness']] = np_std\n",
    "# 合并数据集\n",
    "wine_contrast = pd.concat([wine, df_minmax, df_std], axis=0)"
   ]
  },
  {
   "cell_type": "code",
   "execution_count": 28,
   "id": "b1dfcb04",
   "metadata": {},
   "outputs": [
    {
     "data": {
      "text/plain": [
       "<Figure size 2000x2000 with 0 Axes>"
      ]
     },
     "metadata": {},
     "output_type": "display_data"
    },
    {
     "data": {
      "image/png": "[encoded data removed]",
      "text/plain": [
       "<Figure size 308.875x250 with 1 Axes>"
      ]
     },
     "metadata": {},
     "output_type": "display_data"
    }
   ],
   "source": [
    "# 创建画布\n",
    "plt.figure(figsize=(20, 20))\n",
    "# 指定x轴和y轴的数据集和坐标轴标识\n",
    "sns.pairplot(hue=\"Class\", data=wine_contrast, x_vars=\"acidity\", y_vars=\"glossiness\")\n",
    "# 显示图像\n",
    "plt.show()"
   ]
  },
  {
   "cell_type": "code",
   "execution_count": 29,
   "id": "08b2dc89",
   "metadata": {},
   "outputs": [
    {
     "data": {
      "text/plain": [
       "<Figure size 1000x1000 with 0 Axes>"
      ]
     },
     "metadata": {},
     "output_type": "display_data"
    },
    {
     "data": {
      "image/png": "[encoded data removed]",
      "text/plain": [
       "<Figure size 308.875x250 with 1 Axes>"
      ]
     },
     "metadata": {},
     "output_type": "display_data"
    }
   ],
   "source": [
    "# 画出原数据散点图\n",
    "# 创建画布\n",
    "plt.figure(figsize=(10, 10))\n",
    "# 指定x轴和y轴的数据集和坐标轴标识\n",
    "sns.pairplot(hue=\"Class\", data=wine, x_vars=\"acidity\", y_vars=\"glossiness\")\n",
    "plt.show()"
   ]
  },
  {
   "cell_type": "code",
   "execution_count": 30,
   "id": "07e3ef1a",
   "metadata": {},
   "outputs": [
    {
     "data": {
      "text/plain": [
       "<Figure size 2000x2000 with 0 Axes>"
      ]
     },
     "metadata": {},
     "output_type": "display_data"
    },
    {
     "data": {
      "image/png": "[encoded data removed]",
      "text/plain": [
       "<Figure size 308.875x250 with 1 Axes>"
      ]
     },
     "metadata": {},
     "output_type": "display_data"
    }
   ],
   "source": [
    "# 画出0-1标准化后散点图\n",
    "# 创建画布\n",
    "plt.figure(figsize=(20, 20))\n",
    "# 指定x轴和y轴的数据集和坐标轴标识\n",
    "sns.pairplot(hue=\"Class\", data=df_minmax, x_vars=\"acidity\", y_vars=\"glossiness\")\n",
    "plt.show()"
   ]
  },
  {
   "cell_type": "code",
   "execution_count": 31,
   "id": "ac4849bd",
   "metadata": {},
   "outputs": [
    {
     "data": {
      "text/plain": [
       "<Figure size 2000x2000 with 0 Axes>"
      ]
     },
     "metadata": {},
     "output_type": "display_data"
    },
    {
     "data": {
      "image/png": "[encoded data removed]",
      "text/plain": [
       "<Figure size 308.875x250 with 1 Axes>"
      ]
     },
     "metadata": {},
     "output_type": "display_data"
    }
   ],
   "source": [
    "# 画出z-score标准化后的散点图\n",
    "# 创建画布\n",
    "plt.figure(figsize=(20, 20))\n",
    "# 指定x轴和y轴的数据集和坐标轴标识\n",
    "sns.pairplot(hue=\"Class\", data=df_std, x_vars=\"acidity\", y_vars=\"glossiness\")\n",
    "plt.show()"
   ]
  },
  {
   "cell_type": "code",
   "execution_count": 32,
   "id": "51923ec1",
   "metadata": {},
   "outputs": [],
   "source": [
    "# 保存0-1标准化后的数据\n",
    "df_minmax.to_csv(\"D:/output/minmax.csv\",index = False)\n",
    "\n",
    "# 保存z-score标准化后的数据\n",
    "df_std.to_csv(\"D:/output/std.csv\",index = False)\n"
   ]
  },
  {
   "cell_type": "code",
   "execution_count": 34,
   "id": "7f5a10b2",
   "metadata": {},
   "outputs": [],
   "source": [
    "# 保存0-1标准化后的数据\n",
    "df_minmax.to_excel(\"D:/output/minmax.xlsx\",index = False)\n",
    "\n",
    "# 保存z-score标准化后的数据\n",
    "df_std.to_excel(\"D:/output/std.xlsx\",index = False)\n"
   ]
  },
  {
   "cell_type": "code",
   "execution_count": null,
   "id": "ec05ebad",
   "metadata": {},
   "outputs": [],
   "source": []
  }
 ],
 "metadata": {
  "kernelspec": {
   "display_name": "Python 3 (ipykernel)",
   "language": "python",
   "name": "python3"
  },
  "language_info": {
   "codemirror_mode": {
    "name": "ipython",
    "version": 3
   },
   "file_extension": ".py",
   "mimetype": "text/x-python",
   "name": "python",
   "nbconvert_exporter": "python",
   "pygments_lexer": "ipython3",
   "version": "3.10.9"
  }
 },
 "nbformat": 4,
 "nbformat_minor": 5
}
