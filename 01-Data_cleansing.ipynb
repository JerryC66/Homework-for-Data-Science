{
 "cells": [
  {
   "attachments": {},
   "cell_type": "markdown",
   "id": "7f227b5d",
   "metadata": {},
   "source": [
    "# 2准备"
   ]
  },
  {
   "attachments": {},
   "cell_type": "markdown",
   "id": "306bdc41",
   "metadata": {},
   "source": [
    "## 2.1实验环境搭建"
   ]
  },
  {
   "cell_type": "code",
   "execution_count": 1,
   "id": "efc287a3",
   "metadata": {},
   "outputs": [],
   "source": [
    "import pandas as pd\n",
    "import numpy as np\n",
    "import matplotlib.pyplot as plt\n",
    "import matplotlib\n",
    "from sklearn import preprocessing\n",
    "import seaborn as sns\n",
    "import re"
   ]
  },
  {
   "attachments": {},
   "cell_type": "markdown",
   "id": "86e66284",
   "metadata": {},
   "source": [
    "## 2.2数据准备\n",
    "## 2.3数据读入"
   ]
  },
  {
   "cell_type": "code",
   "execution_count": 4,
   "id": "4004ba8c",
   "metadata": {},
   "outputs": [],
   "source": [
    "dataset = pd.read_csv(\"D:/input/LoanStats_securev1_2019Q3.csv\", encoding=\"gbk\", low_memory=False)"
   ]
  },
  {
   "cell_type": "code",
   "execution_count": 5,
   "id": "b3b520dc",
   "metadata": {},
   "outputs": [
    {
     "data": {
      "text/html": [
       "<div>\n",
       "<style scoped>\n",
       "    .dataframe tbody tr th:only-of-type {\n",
       "        vertical-align: middle;\n",
       "    }\n",
       "\n",
       "    .dataframe tbody tr th {\n",
       "        vertical-align: top;\n",
       "    }\n",
       "\n",
       "    .dataframe thead th {\n",
       "        text-align: right;\n",
       "    }\n",
       "</style>\n",
       "<table border=\"1\" class=\"dataframe\">\n",
       "  <thead>\n",
       "    <tr style=\"text-align: right;\">\n",
       "      <th></th>\n",
       "      <th>id</th>\n",
       "      <th>member_id</th>\n",
       "      <th>loan_amnt</th>\n",
       "      <th>funded_amnt</th>\n",
       "      <th>funded_amnt_inv</th>\n",
       "      <th>term</th>\n",
       "      <th>int_rate</th>\n",
       "      <th>installment</th>\n",
       "      <th>grade</th>\n",
       "      <th>sub_grade</th>\n",
       "      <th>...</th>\n",
       "      <th>orig_projected_additional_accrued_interest</th>\n",
       "      <th>hardship_payoff_balance_amount</th>\n",
       "      <th>hardship_last_payment_amount</th>\n",
       "      <th>debt_settlement_flag</th>\n",
       "      <th>debt_settlement_flag_date</th>\n",
       "      <th>settlement_status</th>\n",
       "      <th>settlement_date</th>\n",
       "      <th>settlement_amount</th>\n",
       "      <th>settlement_percentage</th>\n",
       "      <th>settlement_term</th>\n",
       "    </tr>\n",
       "  </thead>\n",
       "  <tbody>\n",
       "    <tr>\n",
       "      <th>0</th>\n",
       "      <td>158303403</td>\n",
       "      <td>NaN</td>\n",
       "      <td>12000</td>\n",
       "      <td>12000</td>\n",
       "      <td>12000</td>\n",
       "      <td>36 months</td>\n",
       "      <td>8.19%</td>\n",
       "      <td>377.09</td>\n",
       "      <td>A</td>\n",
       "      <td>A4</td>\n",
       "      <td>...</td>\n",
       "      <td>NaN</td>\n",
       "      <td>NaN</td>\n",
       "      <td>NaN</td>\n",
       "      <td>N</td>\n",
       "      <td>NaN</td>\n",
       "      <td>NaN</td>\n",
       "      <td>NaN</td>\n",
       "      <td>NaN</td>\n",
       "      <td>NaN</td>\n",
       "      <td>NaN</td>\n",
       "    </tr>\n",
       "    <tr>\n",
       "      <th>1</th>\n",
       "      <td>158628181</td>\n",
       "      <td>NaN</td>\n",
       "      <td>20000</td>\n",
       "      <td>20000</td>\n",
       "      <td>20000</td>\n",
       "      <td>36 months</td>\n",
       "      <td>8.81%</td>\n",
       "      <td>634.23</td>\n",
       "      <td>A</td>\n",
       "      <td>A5</td>\n",
       "      <td>...</td>\n",
       "      <td>NaN</td>\n",
       "      <td>NaN</td>\n",
       "      <td>NaN</td>\n",
       "      <td>N</td>\n",
       "      <td>NaN</td>\n",
       "      <td>NaN</td>\n",
       "      <td>NaN</td>\n",
       "      <td>NaN</td>\n",
       "      <td>NaN</td>\n",
       "      <td>NaN</td>\n",
       "    </tr>\n",
       "    <tr>\n",
       "      <th>2</th>\n",
       "      <td>159231951</td>\n",
       "      <td>NaN</td>\n",
       "      <td>18000</td>\n",
       "      <td>18000</td>\n",
       "      <td>18000</td>\n",
       "      <td>60 months</td>\n",
       "      <td>13.08%</td>\n",
       "      <td>410.30</td>\n",
       "      <td>B</td>\n",
       "      <td>B5</td>\n",
       "      <td>...</td>\n",
       "      <td>NaN</td>\n",
       "      <td>NaN</td>\n",
       "      <td>NaN</td>\n",
       "      <td>N</td>\n",
       "      <td>NaN</td>\n",
       "      <td>NaN</td>\n",
       "      <td>NaN</td>\n",
       "      <td>NaN</td>\n",
       "      <td>NaN</td>\n",
       "      <td>NaN</td>\n",
       "    </tr>\n",
       "    <tr>\n",
       "      <th>3</th>\n",
       "      <td>159289397</td>\n",
       "      <td>NaN</td>\n",
       "      <td>10000</td>\n",
       "      <td>10000</td>\n",
       "      <td>10000</td>\n",
       "      <td>36 months</td>\n",
       "      <td>10.33%</td>\n",
       "      <td>324.23</td>\n",
       "      <td>B</td>\n",
       "      <td>B1</td>\n",
       "      <td>...</td>\n",
       "      <td>NaN</td>\n",
       "      <td>NaN</td>\n",
       "      <td>NaN</td>\n",
       "      <td>N</td>\n",
       "      <td>NaN</td>\n",
       "      <td>NaN</td>\n",
       "      <td>NaN</td>\n",
       "      <td>NaN</td>\n",
       "      <td>NaN</td>\n",
       "      <td>NaN</td>\n",
       "    </tr>\n",
       "    <tr>\n",
       "      <th>4</th>\n",
       "      <td>159296485</td>\n",
       "      <td>NaN</td>\n",
       "      <td>7000</td>\n",
       "      <td>7000</td>\n",
       "      <td>7000</td>\n",
       "      <td>36 months</td>\n",
       "      <td>18.62%</td>\n",
       "      <td>255.25</td>\n",
       "      <td>D</td>\n",
       "      <td>D1</td>\n",
       "      <td>...</td>\n",
       "      <td>NaN</td>\n",
       "      <td>NaN</td>\n",
       "      <td>NaN</td>\n",
       "      <td>N</td>\n",
       "      <td>NaN</td>\n",
       "      <td>NaN</td>\n",
       "      <td>NaN</td>\n",
       "      <td>NaN</td>\n",
       "      <td>NaN</td>\n",
       "      <td>NaN</td>\n",
       "    </tr>\n",
       "  </tbody>\n",
       "</table>\n",
       "<p>5 rows × 150 columns</p>\n",
       "</div>"
      ],
      "text/plain": [
       "          id  member_id  loan_amnt  funded_amnt  funded_amnt_inv        term  \\\n",
       "0  158303403        NaN      12000        12000            12000   36 months   \n",
       "1  158628181        NaN      20000        20000            20000   36 months   \n",
       "2  159231951        NaN      18000        18000            18000   60 months   \n",
       "3  159289397        NaN      10000        10000            10000   36 months   \n",
       "4  159296485        NaN       7000         7000             7000   36 months   \n",
       "\n",
       "  int_rate  installment grade sub_grade  ...  \\\n",
       "0    8.19%       377.09     A        A4  ...   \n",
       "1    8.81%       634.23     A        A5  ...   \n",
       "2   13.08%       410.30     B        B5  ...   \n",
       "3   10.33%       324.23     B        B1  ...   \n",
       "4   18.62%       255.25     D        D1  ...   \n",
       "\n",
       "  orig_projected_additional_accrued_interest hardship_payoff_balance_amount  \\\n",
       "0                                        NaN                            NaN   \n",
       "1                                        NaN                            NaN   \n",
       "2                                        NaN                            NaN   \n",
       "3                                        NaN                            NaN   \n",
       "4                                        NaN                            NaN   \n",
       "\n",
       "  hardship_last_payment_amount  debt_settlement_flag  \\\n",
       "0                          NaN                     N   \n",
       "1                          NaN                     N   \n",
       "2                          NaN                     N   \n",
       "3                          NaN                     N   \n",
       "4                          NaN                     N   \n",
       "\n",
       "  debt_settlement_flag_date settlement_status settlement_date  \\\n",
       "0                       NaN               NaN             NaN   \n",
       "1                       NaN               NaN             NaN   \n",
       "2                       NaN               NaN             NaN   \n",
       "3                       NaN               NaN             NaN   \n",
       "4                       NaN               NaN             NaN   \n",
       "\n",
       "  settlement_amount settlement_percentage  settlement_term  \n",
       "0               NaN                   NaN              NaN  \n",
       "1               NaN                   NaN              NaN  \n",
       "2               NaN                   NaN              NaN  \n",
       "3               NaN                   NaN              NaN  \n",
       "4               NaN                   NaN              NaN  \n",
       "\n",
       "[5 rows x 150 columns]"
      ]
     },
     "execution_count": 5,
     "metadata": {},
     "output_type": "execute_result"
    }
   ],
   "source": [
    "dataset.head(5)"
   ]
  },
  {
   "cell_type": "code",
   "execution_count": 14,
   "id": "be501650",
   "metadata": {},
   "outputs": [
    {
     "data": {
      "text/plain": [
       "(143035, 150)"
      ]
     },
     "execution_count": 14,
     "metadata": {},
     "output_type": "execute_result"
    }
   ],
   "source": [
    "dataset.shape"
   ]
  },
  {
   "attachments": {},
   "cell_type": "markdown",
   "id": "8c756b8b",
   "metadata": {},
   "source": [
    "# 3缺失值处理\n",
    "## 3.1缺失值查看\n"
   ]
  },
  {
   "cell_type": "code",
   "execution_count": 7,
   "id": "f017daed",
   "metadata": {},
   "outputs": [
    {
     "data": {
      "text/html": [
       "<div>\n",
       "<style scoped>\n",
       "    .dataframe tbody tr th:only-of-type {\n",
       "        vertical-align: middle;\n",
       "    }\n",
       "\n",
       "    .dataframe tbody tr th {\n",
       "        vertical-align: top;\n",
       "    }\n",
       "\n",
       "    .dataframe thead th {\n",
       "        text-align: right;\n",
       "    }\n",
       "</style>\n",
       "<table border=\"1\" class=\"dataframe\">\n",
       "  <thead>\n",
       "    <tr style=\"text-align: right;\">\n",
       "      <th></th>\n",
       "      <th>id</th>\n",
       "      <th>member_id</th>\n",
       "      <th>loan_amnt</th>\n",
       "      <th>funded_amnt</th>\n",
       "      <th>funded_amnt_inv</th>\n",
       "      <th>term</th>\n",
       "      <th>int_rate</th>\n",
       "      <th>installment</th>\n",
       "      <th>grade</th>\n",
       "      <th>sub_grade</th>\n",
       "      <th>...</th>\n",
       "      <th>orig_projected_additional_accrued_interest</th>\n",
       "      <th>hardship_payoff_balance_amount</th>\n",
       "      <th>hardship_last_payment_amount</th>\n",
       "      <th>debt_settlement_flag</th>\n",
       "      <th>debt_settlement_flag_date</th>\n",
       "      <th>settlement_status</th>\n",
       "      <th>settlement_date</th>\n",
       "      <th>settlement_amount</th>\n",
       "      <th>settlement_percentage</th>\n",
       "      <th>settlement_term</th>\n",
       "    </tr>\n",
       "  </thead>\n",
       "  <tbody>\n",
       "    <tr>\n",
       "      <th>0</th>\n",
       "      <td>False</td>\n",
       "      <td>True</td>\n",
       "      <td>False</td>\n",
       "      <td>False</td>\n",
       "      <td>False</td>\n",
       "      <td>False</td>\n",
       "      <td>False</td>\n",
       "      <td>False</td>\n",
       "      <td>False</td>\n",
       "      <td>False</td>\n",
       "      <td>...</td>\n",
       "      <td>True</td>\n",
       "      <td>True</td>\n",
       "      <td>True</td>\n",
       "      <td>False</td>\n",
       "      <td>True</td>\n",
       "      <td>True</td>\n",
       "      <td>True</td>\n",
       "      <td>True</td>\n",
       "      <td>True</td>\n",
       "      <td>True</td>\n",
       "    </tr>\n",
       "    <tr>\n",
       "      <th>1</th>\n",
       "      <td>False</td>\n",
       "      <td>True</td>\n",
       "      <td>False</td>\n",
       "      <td>False</td>\n",
       "      <td>False</td>\n",
       "      <td>False</td>\n",
       "      <td>False</td>\n",
       "      <td>False</td>\n",
       "      <td>False</td>\n",
       "      <td>False</td>\n",
       "      <td>...</td>\n",
       "      <td>True</td>\n",
       "      <td>True</td>\n",
       "      <td>True</td>\n",
       "      <td>False</td>\n",
       "      <td>True</td>\n",
       "      <td>True</td>\n",
       "      <td>True</td>\n",
       "      <td>True</td>\n",
       "      <td>True</td>\n",
       "      <td>True</td>\n",
       "    </tr>\n",
       "    <tr>\n",
       "      <th>2</th>\n",
       "      <td>False</td>\n",
       "      <td>True</td>\n",
       "      <td>False</td>\n",
       "      <td>False</td>\n",
       "      <td>False</td>\n",
       "      <td>False</td>\n",
       "      <td>False</td>\n",
       "      <td>False</td>\n",
       "      <td>False</td>\n",
       "      <td>False</td>\n",
       "      <td>...</td>\n",
       "      <td>True</td>\n",
       "      <td>True</td>\n",
       "      <td>True</td>\n",
       "      <td>False</td>\n",
       "      <td>True</td>\n",
       "      <td>True</td>\n",
       "      <td>True</td>\n",
       "      <td>True</td>\n",
       "      <td>True</td>\n",
       "      <td>True</td>\n",
       "    </tr>\n",
       "    <tr>\n",
       "      <th>3</th>\n",
       "      <td>False</td>\n",
       "      <td>True</td>\n",
       "      <td>False</td>\n",
       "      <td>False</td>\n",
       "      <td>False</td>\n",
       "      <td>False</td>\n",
       "      <td>False</td>\n",
       "      <td>False</td>\n",
       "      <td>False</td>\n",
       "      <td>False</td>\n",
       "      <td>...</td>\n",
       "      <td>True</td>\n",
       "      <td>True</td>\n",
       "      <td>True</td>\n",
       "      <td>False</td>\n",
       "      <td>True</td>\n",
       "      <td>True</td>\n",
       "      <td>True</td>\n",
       "      <td>True</td>\n",
       "      <td>True</td>\n",
       "      <td>True</td>\n",
       "    </tr>\n",
       "    <tr>\n",
       "      <th>4</th>\n",
       "      <td>False</td>\n",
       "      <td>True</td>\n",
       "      <td>False</td>\n",
       "      <td>False</td>\n",
       "      <td>False</td>\n",
       "      <td>False</td>\n",
       "      <td>False</td>\n",
       "      <td>False</td>\n",
       "      <td>False</td>\n",
       "      <td>False</td>\n",
       "      <td>...</td>\n",
       "      <td>True</td>\n",
       "      <td>True</td>\n",
       "      <td>True</td>\n",
       "      <td>False</td>\n",
       "      <td>True</td>\n",
       "      <td>True</td>\n",
       "      <td>True</td>\n",
       "      <td>True</td>\n",
       "      <td>True</td>\n",
       "      <td>True</td>\n",
       "    </tr>\n",
       "    <tr>\n",
       "      <th>5</th>\n",
       "      <td>False</td>\n",
       "      <td>True</td>\n",
       "      <td>False</td>\n",
       "      <td>False</td>\n",
       "      <td>False</td>\n",
       "      <td>False</td>\n",
       "      <td>False</td>\n",
       "      <td>False</td>\n",
       "      <td>False</td>\n",
       "      <td>False</td>\n",
       "      <td>...</td>\n",
       "      <td>True</td>\n",
       "      <td>True</td>\n",
       "      <td>True</td>\n",
       "      <td>False</td>\n",
       "      <td>True</td>\n",
       "      <td>True</td>\n",
       "      <td>True</td>\n",
       "      <td>True</td>\n",
       "      <td>True</td>\n",
       "      <td>True</td>\n",
       "    </tr>\n",
       "    <tr>\n",
       "      <th>6</th>\n",
       "      <td>False</td>\n",
       "      <td>True</td>\n",
       "      <td>False</td>\n",
       "      <td>False</td>\n",
       "      <td>False</td>\n",
       "      <td>False</td>\n",
       "      <td>False</td>\n",
       "      <td>False</td>\n",
       "      <td>False</td>\n",
       "      <td>False</td>\n",
       "      <td>...</td>\n",
       "      <td>True</td>\n",
       "      <td>True</td>\n",
       "      <td>True</td>\n",
       "      <td>False</td>\n",
       "      <td>True</td>\n",
       "      <td>True</td>\n",
       "      <td>True</td>\n",
       "      <td>True</td>\n",
       "      <td>True</td>\n",
       "      <td>True</td>\n",
       "    </tr>\n",
       "    <tr>\n",
       "      <th>7</th>\n",
       "      <td>False</td>\n",
       "      <td>True</td>\n",
       "      <td>False</td>\n",
       "      <td>False</td>\n",
       "      <td>False</td>\n",
       "      <td>False</td>\n",
       "      <td>False</td>\n",
       "      <td>False</td>\n",
       "      <td>False</td>\n",
       "      <td>False</td>\n",
       "      <td>...</td>\n",
       "      <td>True</td>\n",
       "      <td>True</td>\n",
       "      <td>True</td>\n",
       "      <td>False</td>\n",
       "      <td>True</td>\n",
       "      <td>True</td>\n",
       "      <td>True</td>\n",
       "      <td>True</td>\n",
       "      <td>True</td>\n",
       "      <td>True</td>\n",
       "    </tr>\n",
       "    <tr>\n",
       "      <th>8</th>\n",
       "      <td>False</td>\n",
       "      <td>True</td>\n",
       "      <td>False</td>\n",
       "      <td>False</td>\n",
       "      <td>False</td>\n",
       "      <td>False</td>\n",
       "      <td>False</td>\n",
       "      <td>False</td>\n",
       "      <td>False</td>\n",
       "      <td>False</td>\n",
       "      <td>...</td>\n",
       "      <td>True</td>\n",
       "      <td>True</td>\n",
       "      <td>True</td>\n",
       "      <td>False</td>\n",
       "      <td>True</td>\n",
       "      <td>True</td>\n",
       "      <td>True</td>\n",
       "      <td>True</td>\n",
       "      <td>True</td>\n",
       "      <td>True</td>\n",
       "    </tr>\n",
       "    <tr>\n",
       "      <th>9</th>\n",
       "      <td>False</td>\n",
       "      <td>True</td>\n",
       "      <td>False</td>\n",
       "      <td>False</td>\n",
       "      <td>False</td>\n",
       "      <td>False</td>\n",
       "      <td>False</td>\n",
       "      <td>False</td>\n",
       "      <td>False</td>\n",
       "      <td>False</td>\n",
       "      <td>...</td>\n",
       "      <td>True</td>\n",
       "      <td>True</td>\n",
       "      <td>True</td>\n",
       "      <td>False</td>\n",
       "      <td>True</td>\n",
       "      <td>True</td>\n",
       "      <td>True</td>\n",
       "      <td>True</td>\n",
       "      <td>True</td>\n",
       "      <td>True</td>\n",
       "    </tr>\n",
       "  </tbody>\n",
       "</table>\n",
       "<p>10 rows × 150 columns</p>\n",
       "</div>"
      ],
      "text/plain": [
       "      id  member_id  loan_amnt  funded_amnt  funded_amnt_inv   term  int_rate  \\\n",
       "0  False       True      False        False            False  False     False   \n",
       "1  False       True      False        False            False  False     False   \n",
       "2  False       True      False        False            False  False     False   \n",
       "3  False       True      False        False            False  False     False   \n",
       "4  False       True      False        False            False  False     False   \n",
       "5  False       True      False        False            False  False     False   \n",
       "6  False       True      False        False            False  False     False   \n",
       "7  False       True      False        False            False  False     False   \n",
       "8  False       True      False        False            False  False     False   \n",
       "9  False       True      False        False            False  False     False   \n",
       "\n",
       "   installment  grade  sub_grade  ...  \\\n",
       "0        False  False      False  ...   \n",
       "1        False  False      False  ...   \n",
       "2        False  False      False  ...   \n",
       "3        False  False      False  ...   \n",
       "4        False  False      False  ...   \n",
       "5        False  False      False  ...   \n",
       "6        False  False      False  ...   \n",
       "7        False  False      False  ...   \n",
       "8        False  False      False  ...   \n",
       "9        False  False      False  ...   \n",
       "\n",
       "   orig_projected_additional_accrued_interest  hardship_payoff_balance_amount  \\\n",
       "0                                        True                            True   \n",
       "1                                        True                            True   \n",
       "2                                        True                            True   \n",
       "3                                        True                            True   \n",
       "4                                        True                            True   \n",
       "5                                        True                            True   \n",
       "6                                        True                            True   \n",
       "7                                        True                            True   \n",
       "8                                        True                            True   \n",
       "9                                        True                            True   \n",
       "\n",
       "   hardship_last_payment_amount  debt_settlement_flag  \\\n",
       "0                          True                 False   \n",
       "1                          True                 False   \n",
       "2                          True                 False   \n",
       "3                          True                 False   \n",
       "4                          True                 False   \n",
       "5                          True                 False   \n",
       "6                          True                 False   \n",
       "7                          True                 False   \n",
       "8                          True                 False   \n",
       "9                          True                 False   \n",
       "\n",
       "   debt_settlement_flag_date  settlement_status  settlement_date  \\\n",
       "0                       True               True             True   \n",
       "1                       True               True             True   \n",
       "2                       True               True             True   \n",
       "3                       True               True             True   \n",
       "4                       True               True             True   \n",
       "5                       True               True             True   \n",
       "6                       True               True             True   \n",
       "7                       True               True             True   \n",
       "8                       True               True             True   \n",
       "9                       True               True             True   \n",
       "\n",
       "   settlement_amount  settlement_percentage  settlement_term  \n",
       "0               True                   True             True  \n",
       "1               True                   True             True  \n",
       "2               True                   True             True  \n",
       "3               True                   True             True  \n",
       "4               True                   True             True  \n",
       "5               True                   True             True  \n",
       "6               True                   True             True  \n",
       "7               True                   True             True  \n",
       "8               True                   True             True  \n",
       "9               True                   True             True  \n",
       "\n",
       "[10 rows x 150 columns]"
      ]
     },
     "execution_count": 7,
     "metadata": {},
     "output_type": "execute_result"
    }
   ],
   "source": [
    "dataset.isnull().head(10)"
   ]
  },
  {
   "cell_type": "code",
   "execution_count": 16,
   "id": "2ab5e476",
   "metadata": {},
   "outputs": [],
   "source": [
    "na_ratio = pd.DataFrame(dataset.isnull().sum() / len(dataset) * 100, columns=['NA_Ratio'])"
   ]
  },
  {
   "cell_type": "code",
   "execution_count": 13,
   "id": "9d4694f6",
   "metadata": {},
   "outputs": [
    {
     "data": {
      "text/html": [
       "<div>\n",
       "<style scoped>\n",
       "    .dataframe tbody tr th:only-of-type {\n",
       "        vertical-align: middle;\n",
       "    }\n",
       "\n",
       "    .dataframe tbody tr th {\n",
       "        vertical-align: top;\n",
       "    }\n",
       "\n",
       "    .dataframe thead th {\n",
       "        text-align: right;\n",
       "    }\n",
       "</style>\n",
       "<table border=\"1\" class=\"dataframe\">\n",
       "  <thead>\n",
       "    <tr style=\"text-align: right;\">\n",
       "      <th></th>\n",
       "      <th>NA-Ratio</th>\n",
       "    </tr>\n",
       "  </thead>\n",
       "  <tbody>\n",
       "    <tr>\n",
       "      <th>id</th>\n",
       "      <td>0.0</td>\n",
       "    </tr>\n",
       "    <tr>\n",
       "      <th>member_id</th>\n",
       "      <td>100.0</td>\n",
       "    </tr>\n",
       "    <tr>\n",
       "      <th>loan_amnt</th>\n",
       "      <td>0.0</td>\n",
       "    </tr>\n",
       "    <tr>\n",
       "      <th>funded_amnt</th>\n",
       "      <td>0.0</td>\n",
       "    </tr>\n",
       "    <tr>\n",
       "      <th>funded_amnt_inv</th>\n",
       "      <td>0.0</td>\n",
       "    </tr>\n",
       "    <tr>\n",
       "      <th>term</th>\n",
       "      <td>0.0</td>\n",
       "    </tr>\n",
       "    <tr>\n",
       "      <th>int_rate</th>\n",
       "      <td>0.0</td>\n",
       "    </tr>\n",
       "    <tr>\n",
       "      <th>installment</th>\n",
       "      <td>0.0</td>\n",
       "    </tr>\n",
       "    <tr>\n",
       "      <th>grade</th>\n",
       "      <td>0.0</td>\n",
       "    </tr>\n",
       "    <tr>\n",
       "      <th>sub_grade</th>\n",
       "      <td>0.0</td>\n",
       "    </tr>\n",
       "  </tbody>\n",
       "</table>\n",
       "</div>"
      ],
      "text/plain": [
       "                 NA-Ratio\n",
       "id                    0.0\n",
       "member_id           100.0\n",
       "loan_amnt             0.0\n",
       "funded_amnt           0.0\n",
       "funded_amnt_inv       0.0\n",
       "term                  0.0\n",
       "int_rate              0.0\n",
       "installment           0.0\n",
       "grade                 0.0\n",
       "sub_grade             0.0"
      ]
     },
     "execution_count": 13,
     "metadata": {},
     "output_type": "execute_result"
    }
   ],
   "source": [
    "na_ratio.head(10)"
   ]
  },
  {
   "cell_type": "code",
   "execution_count": 20,
   "id": "a219f14a",
   "metadata": {},
   "outputs": [],
   "source": [
    "df_na = na_ratio[na_ratio['NA_Ratio'] >= 90].sort_values(by='NA_Ratio', ascending=False)"
   ]
  },
  {
   "cell_type": "code",
   "execution_count": 21,
   "id": "544fcf0b",
   "metadata": {},
   "outputs": [
    {
     "data": {
      "text/html": [
       "<div>\n",
       "<style scoped>\n",
       "    .dataframe tbody tr th:only-of-type {\n",
       "        vertical-align: middle;\n",
       "    }\n",
       "\n",
       "    .dataframe tbody tr th {\n",
       "        vertical-align: top;\n",
       "    }\n",
       "\n",
       "    .dataframe thead th {\n",
       "        text-align: right;\n",
       "    }\n",
       "</style>\n",
       "<table border=\"1\" class=\"dataframe\">\n",
       "  <thead>\n",
       "    <tr style=\"text-align: right;\">\n",
       "      <th></th>\n",
       "      <th>NA_Ratio</th>\n",
       "    </tr>\n",
       "  </thead>\n",
       "  <tbody>\n",
       "    <tr>\n",
       "      <th>member_id</th>\n",
       "      <td>100.000000</td>\n",
       "    </tr>\n",
       "    <tr>\n",
       "      <th>hardship_dpd</th>\n",
       "      <td>100.000000</td>\n",
       "    </tr>\n",
       "    <tr>\n",
       "      <th>settlement_percentage</th>\n",
       "      <td>100.000000</td>\n",
       "    </tr>\n",
       "    <tr>\n",
       "      <th>settlement_amount</th>\n",
       "      <td>100.000000</td>\n",
       "    </tr>\n",
       "    <tr>\n",
       "      <th>settlement_date</th>\n",
       "      <td>100.000000</td>\n",
       "    </tr>\n",
       "    <tr>\n",
       "      <th>settlement_status</th>\n",
       "      <td>100.000000</td>\n",
       "    </tr>\n",
       "    <tr>\n",
       "      <th>debt_settlement_flag_date</th>\n",
       "      <td>100.000000</td>\n",
       "    </tr>\n",
       "    <tr>\n",
       "      <th>hardship_last_payment_amount</th>\n",
       "      <td>100.000000</td>\n",
       "    </tr>\n",
       "    <tr>\n",
       "      <th>hardship_payoff_balance_amount</th>\n",
       "      <td>100.000000</td>\n",
       "    </tr>\n",
       "    <tr>\n",
       "      <th>orig_projected_additional_accrued_interest</th>\n",
       "      <td>100.000000</td>\n",
       "    </tr>\n",
       "    <tr>\n",
       "      <th>hardship_loan_status</th>\n",
       "      <td>100.000000</td>\n",
       "    </tr>\n",
       "    <tr>\n",
       "      <th>hardship_length</th>\n",
       "      <td>100.000000</td>\n",
       "    </tr>\n",
       "    <tr>\n",
       "      <th>desc</th>\n",
       "      <td>100.000000</td>\n",
       "    </tr>\n",
       "    <tr>\n",
       "      <th>payment_plan_start_date</th>\n",
       "      <td>100.000000</td>\n",
       "    </tr>\n",
       "    <tr>\n",
       "      <th>hardship_end_date</th>\n",
       "      <td>100.000000</td>\n",
       "    </tr>\n",
       "    <tr>\n",
       "      <th>hardship_start_date</th>\n",
       "      <td>100.000000</td>\n",
       "    </tr>\n",
       "    <tr>\n",
       "      <th>hardship_amount</th>\n",
       "      <td>100.000000</td>\n",
       "    </tr>\n",
       "    <tr>\n",
       "      <th>deferral_term</th>\n",
       "      <td>100.000000</td>\n",
       "    </tr>\n",
       "    <tr>\n",
       "      <th>hardship_status</th>\n",
       "      <td>100.000000</td>\n",
       "    </tr>\n",
       "    <tr>\n",
       "      <th>hardship_reason</th>\n",
       "      <td>100.000000</td>\n",
       "    </tr>\n",
       "    <tr>\n",
       "      <th>hardship_type</th>\n",
       "      <td>100.000000</td>\n",
       "    </tr>\n",
       "    <tr>\n",
       "      <th>settlement_term</th>\n",
       "      <td>100.000000</td>\n",
       "    </tr>\n",
       "    <tr>\n",
       "      <th>sec_app_mths_since_last_major_derog</th>\n",
       "      <td>95.762576</td>\n",
       "    </tr>\n",
       "  </tbody>\n",
       "</table>\n",
       "</div>"
      ],
      "text/plain": [
       "                                              NA_Ratio\n",
       "member_id                                   100.000000\n",
       "hardship_dpd                                100.000000\n",
       "settlement_percentage                       100.000000\n",
       "settlement_amount                           100.000000\n",
       "settlement_date                             100.000000\n",
       "settlement_status                           100.000000\n",
       "debt_settlement_flag_date                   100.000000\n",
       "hardship_last_payment_amount                100.000000\n",
       "hardship_payoff_balance_amount              100.000000\n",
       "orig_projected_additional_accrued_interest  100.000000\n",
       "hardship_loan_status                        100.000000\n",
       "hardship_length                             100.000000\n",
       "desc                                        100.000000\n",
       "payment_plan_start_date                     100.000000\n",
       "hardship_end_date                           100.000000\n",
       "hardship_start_date                         100.000000\n",
       "hardship_amount                             100.000000\n",
       "deferral_term                               100.000000\n",
       "hardship_status                             100.000000\n",
       "hardship_reason                             100.000000\n",
       "hardship_type                               100.000000\n",
       "settlement_term                             100.000000\n",
       "sec_app_mths_since_last_major_derog          95.762576"
      ]
     },
     "execution_count": 21,
     "metadata": {},
     "output_type": "execute_result"
    }
   ],
   "source": [
    "df_na"
   ]
  },
  {
   "cell_type": "code",
   "execution_count": 22,
   "id": "549f2f13",
   "metadata": {},
   "outputs": [],
   "source": [
    "df_na1 = na_ratio[na_ratio['NA_Ratio'] >= 90].sort_values(by='NA_Ratio', ascending=True)"
   ]
  },
  {
   "cell_type": "code",
   "execution_count": 23,
   "id": "bfee0771",
   "metadata": {},
   "outputs": [
    {
     "data": {
      "text/html": [
       "<div>\n",
       "<style scoped>\n",
       "    .dataframe tbody tr th:only-of-type {\n",
       "        vertical-align: middle;\n",
       "    }\n",
       "\n",
       "    .dataframe tbody tr th {\n",
       "        vertical-align: top;\n",
       "    }\n",
       "\n",
       "    .dataframe thead th {\n",
       "        text-align: right;\n",
       "    }\n",
       "</style>\n",
       "<table border=\"1\" class=\"dataframe\">\n",
       "  <thead>\n",
       "    <tr style=\"text-align: right;\">\n",
       "      <th></th>\n",
       "      <th>NA_Ratio</th>\n",
       "    </tr>\n",
       "  </thead>\n",
       "  <tbody>\n",
       "    <tr>\n",
       "      <th>sec_app_mths_since_last_major_derog</th>\n",
       "      <td>95.762576</td>\n",
       "    </tr>\n",
       "    <tr>\n",
       "      <th>member_id</th>\n",
       "      <td>100.000000</td>\n",
       "    </tr>\n",
       "    <tr>\n",
       "      <th>settlement_amount</th>\n",
       "      <td>100.000000</td>\n",
       "    </tr>\n",
       "    <tr>\n",
       "      <th>settlement_date</th>\n",
       "      <td>100.000000</td>\n",
       "    </tr>\n",
       "    <tr>\n",
       "      <th>settlement_status</th>\n",
       "      <td>100.000000</td>\n",
       "    </tr>\n",
       "    <tr>\n",
       "      <th>debt_settlement_flag_date</th>\n",
       "      <td>100.000000</td>\n",
       "    </tr>\n",
       "    <tr>\n",
       "      <th>hardship_last_payment_amount</th>\n",
       "      <td>100.000000</td>\n",
       "    </tr>\n",
       "    <tr>\n",
       "      <th>hardship_payoff_balance_amount</th>\n",
       "      <td>100.000000</td>\n",
       "    </tr>\n",
       "    <tr>\n",
       "      <th>orig_projected_additional_accrued_interest</th>\n",
       "      <td>100.000000</td>\n",
       "    </tr>\n",
       "    <tr>\n",
       "      <th>hardship_loan_status</th>\n",
       "      <td>100.000000</td>\n",
       "    </tr>\n",
       "    <tr>\n",
       "      <th>hardship_dpd</th>\n",
       "      <td>100.000000</td>\n",
       "    </tr>\n",
       "    <tr>\n",
       "      <th>hardship_length</th>\n",
       "      <td>100.000000</td>\n",
       "    </tr>\n",
       "    <tr>\n",
       "      <th>payment_plan_start_date</th>\n",
       "      <td>100.000000</td>\n",
       "    </tr>\n",
       "    <tr>\n",
       "      <th>hardship_end_date</th>\n",
       "      <td>100.000000</td>\n",
       "    </tr>\n",
       "    <tr>\n",
       "      <th>hardship_start_date</th>\n",
       "      <td>100.000000</td>\n",
       "    </tr>\n",
       "    <tr>\n",
       "      <th>hardship_amount</th>\n",
       "      <td>100.000000</td>\n",
       "    </tr>\n",
       "    <tr>\n",
       "      <th>deferral_term</th>\n",
       "      <td>100.000000</td>\n",
       "    </tr>\n",
       "    <tr>\n",
       "      <th>hardship_status</th>\n",
       "      <td>100.000000</td>\n",
       "    </tr>\n",
       "    <tr>\n",
       "      <th>hardship_reason</th>\n",
       "      <td>100.000000</td>\n",
       "    </tr>\n",
       "    <tr>\n",
       "      <th>hardship_type</th>\n",
       "      <td>100.000000</td>\n",
       "    </tr>\n",
       "    <tr>\n",
       "      <th>desc</th>\n",
       "      <td>100.000000</td>\n",
       "    </tr>\n",
       "    <tr>\n",
       "      <th>settlement_percentage</th>\n",
       "      <td>100.000000</td>\n",
       "    </tr>\n",
       "    <tr>\n",
       "      <th>settlement_term</th>\n",
       "      <td>100.000000</td>\n",
       "    </tr>\n",
       "  </tbody>\n",
       "</table>\n",
       "</div>"
      ],
      "text/plain": [
       "                                              NA_Ratio\n",
       "sec_app_mths_since_last_major_derog          95.762576\n",
       "member_id                                   100.000000\n",
       "settlement_amount                           100.000000\n",
       "settlement_date                             100.000000\n",
       "settlement_status                           100.000000\n",
       "debt_settlement_flag_date                   100.000000\n",
       "hardship_last_payment_amount                100.000000\n",
       "hardship_payoff_balance_amount              100.000000\n",
       "orig_projected_additional_accrued_interest  100.000000\n",
       "hardship_loan_status                        100.000000\n",
       "hardship_dpd                                100.000000\n",
       "hardship_length                             100.000000\n",
       "payment_plan_start_date                     100.000000\n",
       "hardship_end_date                           100.000000\n",
       "hardship_start_date                         100.000000\n",
       "hardship_amount                             100.000000\n",
       "deferral_term                               100.000000\n",
       "hardship_status                             100.000000\n",
       "hardship_reason                             100.000000\n",
       "hardship_type                               100.000000\n",
       "desc                                        100.000000\n",
       "settlement_percentage                       100.000000\n",
       "settlement_term                             100.000000"
      ]
     },
     "execution_count": 23,
     "metadata": {},
     "output_type": "execute_result"
    }
   ],
   "source": [
    "df_na1"
   ]
  },
  {
   "cell_type": "code",
   "execution_count": 24,
   "id": "7bda5c8c",
   "metadata": {},
   "outputs": [],
   "source": [
    "df_na2 = na_ratio[na_ratio['NA_Ratio'] >= 85].sort_values(by='NA_Ratio', ascending=True)"
   ]
  },
  {
   "cell_type": "code",
   "execution_count": 25,
   "id": "fb989d6c",
   "metadata": {},
   "outputs": [
    {
     "data": {
      "text/html": [
       "<div>\n",
       "<style scoped>\n",
       "    .dataframe tbody tr th:only-of-type {\n",
       "        vertical-align: middle;\n",
       "    }\n",
       "\n",
       "    .dataframe tbody tr th {\n",
       "        vertical-align: top;\n",
       "    }\n",
       "\n",
       "    .dataframe thead th {\n",
       "        text-align: right;\n",
       "    }\n",
       "</style>\n",
       "<table border=\"1\" class=\"dataframe\">\n",
       "  <thead>\n",
       "    <tr style=\"text-align: right;\">\n",
       "      <th></th>\n",
       "      <th>NA_Ratio</th>\n",
       "    </tr>\n",
       "  </thead>\n",
       "  <tbody>\n",
       "    <tr>\n",
       "      <th>sec_app_inq_last_6mths</th>\n",
       "      <td>86.159332</td>\n",
       "    </tr>\n",
       "    <tr>\n",
       "      <th>sec_app_collections_12_mths_ex_med</th>\n",
       "      <td>86.159332</td>\n",
       "    </tr>\n",
       "    <tr>\n",
       "      <th>sec_app_chargeoff_within_12_mths</th>\n",
       "      <td>86.159332</td>\n",
       "    </tr>\n",
       "    <tr>\n",
       "      <th>annual_inc_joint</th>\n",
       "      <td>86.159332</td>\n",
       "    </tr>\n",
       "    <tr>\n",
       "      <th>dti_joint</th>\n",
       "      <td>86.159332</td>\n",
       "    </tr>\n",
       "    <tr>\n",
       "      <th>sec_app_num_rev_accts</th>\n",
       "      <td>86.159332</td>\n",
       "    </tr>\n",
       "    <tr>\n",
       "      <th>revol_bal_joint</th>\n",
       "      <td>86.159332</td>\n",
       "    </tr>\n",
       "    <tr>\n",
       "      <th>sec_app_fico_range_low</th>\n",
       "      <td>86.159332</td>\n",
       "    </tr>\n",
       "    <tr>\n",
       "      <th>sec_app_fico_range_high</th>\n",
       "      <td>86.159332</td>\n",
       "    </tr>\n",
       "    <tr>\n",
       "      <th>sec_app_earliest_cr_line</th>\n",
       "      <td>86.159332</td>\n",
       "    </tr>\n",
       "    <tr>\n",
       "      <th>sec_app_open_act_il</th>\n",
       "      <td>86.159332</td>\n",
       "    </tr>\n",
       "    <tr>\n",
       "      <th>sec_app_mort_acc</th>\n",
       "      <td>86.159332</td>\n",
       "    </tr>\n",
       "    <tr>\n",
       "      <th>sec_app_open_acc</th>\n",
       "      <td>86.159332</td>\n",
       "    </tr>\n",
       "    <tr>\n",
       "      <th>sec_app_revol_util</th>\n",
       "      <td>86.398434</td>\n",
       "    </tr>\n",
       "    <tr>\n",
       "      <th>verification_status_joint</th>\n",
       "      <td>87.723984</td>\n",
       "    </tr>\n",
       "    <tr>\n",
       "      <th>mths_since_last_record</th>\n",
       "      <td>89.722096</td>\n",
       "    </tr>\n",
       "    <tr>\n",
       "      <th>sec_app_mths_since_last_major_derog</th>\n",
       "      <td>95.762576</td>\n",
       "    </tr>\n",
       "    <tr>\n",
       "      <th>hardship_last_payment_amount</th>\n",
       "      <td>100.000000</td>\n",
       "    </tr>\n",
       "    <tr>\n",
       "      <th>orig_projected_additional_accrued_interest</th>\n",
       "      <td>100.000000</td>\n",
       "    </tr>\n",
       "    <tr>\n",
       "      <th>hardship_payoff_balance_amount</th>\n",
       "      <td>100.000000</td>\n",
       "    </tr>\n",
       "    <tr>\n",
       "      <th>debt_settlement_flag_date</th>\n",
       "      <td>100.000000</td>\n",
       "    </tr>\n",
       "    <tr>\n",
       "      <th>member_id</th>\n",
       "      <td>100.000000</td>\n",
       "    </tr>\n",
       "    <tr>\n",
       "      <th>settlement_date</th>\n",
       "      <td>100.000000</td>\n",
       "    </tr>\n",
       "    <tr>\n",
       "      <th>hardship_loan_status</th>\n",
       "      <td>100.000000</td>\n",
       "    </tr>\n",
       "    <tr>\n",
       "      <th>settlement_amount</th>\n",
       "      <td>100.000000</td>\n",
       "    </tr>\n",
       "    <tr>\n",
       "      <th>settlement_status</th>\n",
       "      <td>100.000000</td>\n",
       "    </tr>\n",
       "    <tr>\n",
       "      <th>hardship_dpd</th>\n",
       "      <td>100.000000</td>\n",
       "    </tr>\n",
       "    <tr>\n",
       "      <th>hardship_type</th>\n",
       "      <td>100.000000</td>\n",
       "    </tr>\n",
       "    <tr>\n",
       "      <th>payment_plan_start_date</th>\n",
       "      <td>100.000000</td>\n",
       "    </tr>\n",
       "    <tr>\n",
       "      <th>hardship_end_date</th>\n",
       "      <td>100.000000</td>\n",
       "    </tr>\n",
       "    <tr>\n",
       "      <th>hardship_start_date</th>\n",
       "      <td>100.000000</td>\n",
       "    </tr>\n",
       "    <tr>\n",
       "      <th>hardship_amount</th>\n",
       "      <td>100.000000</td>\n",
       "    </tr>\n",
       "    <tr>\n",
       "      <th>deferral_term</th>\n",
       "      <td>100.000000</td>\n",
       "    </tr>\n",
       "    <tr>\n",
       "      <th>hardship_status</th>\n",
       "      <td>100.000000</td>\n",
       "    </tr>\n",
       "    <tr>\n",
       "      <th>hardship_reason</th>\n",
       "      <td>100.000000</td>\n",
       "    </tr>\n",
       "    <tr>\n",
       "      <th>settlement_percentage</th>\n",
       "      <td>100.000000</td>\n",
       "    </tr>\n",
       "    <tr>\n",
       "      <th>desc</th>\n",
       "      <td>100.000000</td>\n",
       "    </tr>\n",
       "    <tr>\n",
       "      <th>hardship_length</th>\n",
       "      <td>100.000000</td>\n",
       "    </tr>\n",
       "    <tr>\n",
       "      <th>settlement_term</th>\n",
       "      <td>100.000000</td>\n",
       "    </tr>\n",
       "  </tbody>\n",
       "</table>\n",
       "</div>"
      ],
      "text/plain": [
       "                                              NA_Ratio\n",
       "sec_app_inq_last_6mths                       86.159332\n",
       "sec_app_collections_12_mths_ex_med           86.159332\n",
       "sec_app_chargeoff_within_12_mths             86.159332\n",
       "annual_inc_joint                             86.159332\n",
       "dti_joint                                    86.159332\n",
       "sec_app_num_rev_accts                        86.159332\n",
       "revol_bal_joint                              86.159332\n",
       "sec_app_fico_range_low                       86.159332\n",
       "sec_app_fico_range_high                      86.159332\n",
       "sec_app_earliest_cr_line                     86.159332\n",
       "sec_app_open_act_il                          86.159332\n",
       "sec_app_mort_acc                             86.159332\n",
       "sec_app_open_acc                             86.159332\n",
       "sec_app_revol_util                           86.398434\n",
       "verification_status_joint                    87.723984\n",
       "mths_since_last_record                       89.722096\n",
       "sec_app_mths_since_last_major_derog          95.762576\n",
       "hardship_last_payment_amount                100.000000\n",
       "orig_projected_additional_accrued_interest  100.000000\n",
       "hardship_payoff_balance_amount              100.000000\n",
       "debt_settlement_flag_date                   100.000000\n",
       "member_id                                   100.000000\n",
       "settlement_date                             100.000000\n",
       "hardship_loan_status                        100.000000\n",
       "settlement_amount                           100.000000\n",
       "settlement_status                           100.000000\n",
       "hardship_dpd                                100.000000\n",
       "hardship_type                               100.000000\n",
       "payment_plan_start_date                     100.000000\n",
       "hardship_end_date                           100.000000\n",
       "hardship_start_date                         100.000000\n",
       "hardship_amount                             100.000000\n",
       "deferral_term                               100.000000\n",
       "hardship_status                             100.000000\n",
       "hardship_reason                             100.000000\n",
       "settlement_percentage                       100.000000\n",
       "desc                                        100.000000\n",
       "hardship_length                             100.000000\n",
       "settlement_term                             100.000000"
      ]
     },
     "execution_count": 25,
     "metadata": {},
     "output_type": "execute_result"
    }
   ],
   "source": [
    "df_na2"
   ]
  },
  {
   "cell_type": "code",
   "execution_count": 27,
   "id": "68a0df33",
   "metadata": {},
   "outputs": [],
   "source": [
    "df_na.to_csv(\"D:/output/df_na.csv\",index=False)"
   ]
  },
  {
   "cell_type": "code",
   "execution_count": 28,
   "id": "fcd4ad12",
   "metadata": {},
   "outputs": [],
   "source": [
    "df_na = na_ratio[(na_ratio['NA_Ratio'] < 80) & (na_ratio['NA_Ratio'] >= 0.01)].sort_values(by='NA_Ratio', ascending=False)"
   ]
  },
  {
   "cell_type": "code",
   "execution_count": 29,
   "id": "e9603cad",
   "metadata": {},
   "outputs": [
    {
     "data": {
      "image/png": "[encoded data removed]",
      "text/plain": [
       "<Figure size 2000x1000 with 1 Axes>"
      ]
     },
     "metadata": {},
     "output_type": "display_data"
    }
   ],
   "source": [
    "fig, ax = plt.subplots(figsize=(20, 10))"
   ]
  },
  {
   "cell_type": "code",
   "execution_count": null,
   "id": "a49efac4",
   "metadata": {},
   "outputs": [
    {
     "data": {
      "image/png": "[encoded data removed]",
      "text/plain": [
       "<Figure size 2000x1000 with 1 Axes>"
      ]
     },
     "metadata": {},
     "output_type": "display_data"
    }
   ],
   "source": [
    "\n",
    "nar = sns.barplot(x=df_na.index, y=df_na['NA_Ratio'], orient='v', palette=\"Blues_d\")\n",
    "ax.set_xticklabels(df_na.index, rotation=90, fontsize=20)\n",
    "ax.set_ylabel('Ratio of Missing Values', fontsize=25)\n",
    "ax.set_xlabel('Features', fontsize=25)\n",
    "ax.set_title('Ratio of Missing Values by Features', fontsize=30)\n",
    "for loc, value in zip(ax.patches, df_na.NA_Ratio):\n",
    "    ax.text(loc.get_x() + loc.get_width() / 2, loc.get_height() + 2, round(value, 2), ha='center', va='bottom', fontsize=16)\n",
    "plt.show()"
   ]
  },
  {
   "attachments": {},
   "cell_type": "markdown",
   "id": "45d19fd0",
   "metadata": {},
   "source": [
    "## 3.2缺失值删除"
   ]
  },
  {
   "cell_type": "code",
   "execution_count": 32,
   "id": "1b1a8570",
   "metadata": {},
   "outputs": [
    {
     "name": "stdout",
     "output_type": "stream",
     "text": [
      "需要删除的缺失值较多的列为: ['member_id', 'desc', 'mths_since_last_delinq', 'mths_since_last_record', 'mths_since_last_major_derog', 'annual_inc_joint', 'dti_joint', 'verification_status_joint', 'mths_since_recent_bc_dlq', 'mths_since_recent_revol_delinq', 'revol_bal_joint', 'sec_app_fico_range_low', 'sec_app_fico_range_high', 'sec_app_earliest_cr_line', 'sec_app_inq_last_6mths', 'sec_app_mort_acc', 'sec_app_open_acc', 'sec_app_revol_util', 'sec_app_open_act_il', 'sec_app_num_rev_accts', 'sec_app_chargeoff_within_12_mths', 'sec_app_collections_12_mths_ex_med', 'sec_app_mths_since_last_major_derog', 'hardship_type', 'hardship_reason', 'hardship_status', 'deferral_term', 'hardship_amount', 'hardship_start_date', 'hardship_end_date', 'payment_plan_start_date', 'hardship_length', 'hardship_dpd', 'hardship_loan_status', 'orig_projected_additional_accrued_interest', 'hardship_payoff_balance_amount', 'hardship_last_payment_amount', 'debt_settlement_flag_date', 'settlement_status', 'settlement_date', 'settlement_amount', 'settlement_percentage', 'settlement_term']\n"
     ]
    }
   ],
   "source": [
    "null_index = list(na_ratio[na_ratio['NA_Ratio'] >= 56].index)\n",
    "print(\"需要删除的缺失值较多的列为:\", null_index)"
   ]
  },
  {
   "cell_type": "code",
   "execution_count": 33,
   "id": "695af22b",
   "metadata": {},
   "outputs": [
    {
     "data": {
      "text/plain": [
       "(143035, 107)"
      ]
     },
     "execution_count": 33,
     "metadata": {},
     "output_type": "execute_result"
    }
   ],
   "source": [
    "# 使用copy()函数拷贝一份原数据的副本\n",
    "dataset_copy = dataset.copy()\n",
    "# 使用drop()函数直接删除先前得到的要删除的列\n",
    "# axis=0时为删除行；axis=1为删除列。inplaces是否替换原来的dataframe\n",
    "dataset_copy.drop(null_index, axis=1, inplace=True)\n",
    "# 打印此时数据的大小\n",
    "dataset_copy.shape"
   ]
  },
  {
   "attachments": {},
   "cell_type": "markdown",
   "id": "d740061b",
   "metadata": {},
   "source": [
    "## 3.3简单填补"
   ]
  },
  {
   "cell_type": "code",
   "execution_count": 34,
   "id": "b2108dd2",
   "metadata": {},
   "outputs": [],
   "source": [
    "dataset_copy.to_csv(\"D:/output/copy.csv\",index = False)"
   ]
  },
  {
   "cell_type": "code",
   "execution_count": 35,
   "id": "f30a6c63",
   "metadata": {},
   "outputs": [
    {
     "name": "stdout",
     "output_type": "stream",
     "text": [
      "需要简单填补的缺失值的列为: ['emp_title', 'emp_length', 'il_util', 'mths_since_recent_inq']\n"
     ]
    }
   ],
   "source": [
    "less_null_index = list(na_ratio[(na_ratio['NA_Ratio'] <= 56) & (na_ratio['NA_Ratio'] >= 8)].index)\n",
    "print(\"需要简单填补的缺失值的列为:\", less_null_index)"
   ]
  },
  {
   "cell_type": "code",
   "execution_count": 36,
   "id": "55c61238",
   "metadata": {},
   "outputs": [
    {
     "data": {
      "text/html": [
       "<div>\n",
       "<style scoped>\n",
       "    .dataframe tbody tr th:only-of-type {\n",
       "        vertical-align: middle;\n",
       "    }\n",
       "\n",
       "    .dataframe tbody tr th {\n",
       "        vertical-align: top;\n",
       "    }\n",
       "\n",
       "    .dataframe thead th {\n",
       "        text-align: right;\n",
       "    }\n",
       "</style>\n",
       "<table border=\"1\" class=\"dataframe\">\n",
       "  <thead>\n",
       "    <tr style=\"text-align: right;\">\n",
       "      <th></th>\n",
       "      <th>emp_title</th>\n",
       "      <th>emp_length</th>\n",
       "      <th>il_util</th>\n",
       "      <th>mths_since_recent_inq</th>\n",
       "    </tr>\n",
       "  </thead>\n",
       "  <tbody>\n",
       "    <tr>\n",
       "      <th>0</th>\n",
       "      <td>Teacher</td>\n",
       "      <td>10+ years</td>\n",
       "      <td>NaN</td>\n",
       "      <td>22.0</td>\n",
       "    </tr>\n",
       "    <tr>\n",
       "      <th>1</th>\n",
       "      <td>Remodel expert</td>\n",
       "      <td>3 years</td>\n",
       "      <td>63.0</td>\n",
       "      <td>16.0</td>\n",
       "    </tr>\n",
       "    <tr>\n",
       "      <th>2</th>\n",
       "      <td>Operations Supervisor</td>\n",
       "      <td>3 years</td>\n",
       "      <td>95.0</td>\n",
       "      <td>8.0</td>\n",
       "    </tr>\n",
       "    <tr>\n",
       "      <th>3</th>\n",
       "      <td>NaN</td>\n",
       "      <td>&lt; 1 year</td>\n",
       "      <td>52.0</td>\n",
       "      <td>5.0</td>\n",
       "    </tr>\n",
       "    <tr>\n",
       "      <th>4</th>\n",
       "      <td>Street sweeper</td>\n",
       "      <td>6 years</td>\n",
       "      <td>NaN</td>\n",
       "      <td>9.0</td>\n",
       "    </tr>\n",
       "  </tbody>\n",
       "</table>\n",
       "</div>"
      ],
      "text/plain": [
       "               emp_title emp_length  il_util  mths_since_recent_inq\n",
       "0                Teacher  10+ years      NaN                   22.0\n",
       "1         Remodel expert    3 years     63.0                   16.0\n",
       "2  Operations Supervisor    3 years     95.0                    8.0\n",
       "3                    NaN   < 1 year     52.0                    5.0\n",
       "4         Street sweeper    6 years      NaN                    9.0"
      ]
     },
     "execution_count": 36,
     "metadata": {},
     "output_type": "execute_result"
    }
   ],
   "source": [
    "dataset_copy[less_null_index].head(5)"
   ]
  },
  {
   "cell_type": "code",
   "execution_count": 37,
   "id": "11402190",
   "metadata": {},
   "outputs": [
    {
     "data": {
      "text/plain": [
       "emp_title                 object\n",
       "emp_length                object\n",
       "il_util                  float64\n",
       "mths_since_recent_inq    float64\n",
       "dtype: object"
      ]
     },
     "execution_count": 37,
     "metadata": {},
     "output_type": "execute_result"
    }
   ],
   "source": [
    "dataset_copy[less_null_index].dtypes"
   ]
  },
  {
   "attachments": {},
   "cell_type": "markdown",
   "id": "561d8ed1",
   "metadata": {},
   "source": [
    "### 3.3.1固定值填补"
   ]
  },
  {
   "cell_type": "code",
   "execution_count": 38,
   "id": "b18aa24a",
   "metadata": {},
   "outputs": [
    {
     "data": {
      "text/plain": [
       "0"
      ]
     },
     "execution_count": 38,
     "metadata": {},
     "output_type": "execute_result"
    }
   ],
   "source": [
    "dataset_copy['emp_title'].fillna(\"workless\", inplace=True)\n",
    "dataset_copy['emp_title'].isnull().sum()"
   ]
  },
  {
   "attachments": {},
   "cell_type": "markdown",
   "id": "ba7a5c4e",
   "metadata": {},
   "source": [
    "### 3.3.2中位数填补"
   ]
  },
  {
   "cell_type": "code",
   "execution_count": 39,
   "id": "09ae2410",
   "metadata": {},
   "outputs": [],
   "source": [
    "# \\d是匹配数字字符[0-9]，+匹配一个或多个，放在一起是匹配一个或多个数字字符\n",
    "pattern = re.compile(r'\\d+')\n",
    "# 初始化一个列表\n",
    "result = []\n",
    "# 因为有缺失值的存在，会使得正则表达式失败,使程序报错退出，故而引入异常检测来规避缺失值\n",
    "for i in list(range(0, len(dataset_copy['emp_length']))):\n",
    "    try:\n",
    "        replace_number = int(pattern.findall(dataset_copy['emp_length'][i])[0])\n",
    "        result.append(replace_number)\n",
    "        # 此处可以直接对原DataFrame的数据进行替换，若此处进行替换操作，会因为DataFrame拷贝操作而导致耗时极长\n",
    "    except:\n",
    "        pass"
   ]
  },
  {
   "cell_type": "code",
   "execution_count": 40,
   "id": "1963e0b0",
   "metadata": {},
   "outputs": [
    {
     "name": "stdout",
     "output_type": "stream",
     "text": [
      "列表长度 130814\n",
      "非缺失值的数量 130814\n"
     ]
    }
   ],
   "source": [
    "print(\"列表长度\", len(result))\n",
    "print(\"非缺失值的数量\", dataset_copy['emp_length'].notnull().sum())"
   ]
  },
  {
   "cell_type": "code",
   "execution_count": 41,
   "id": "77efc749",
   "metadata": {},
   "outputs": [
    {
     "data": {
      "text/plain": [
       "result    5.0\n",
       "dtype: float64"
      ]
     },
     "execution_count": 41,
     "metadata": {},
     "output_type": "execute_result"
    }
   ],
   "source": [
    "# 创建一个dataframe，用来存放之前正则表达式得到的数字\n",
    "df = pd.DataFrame()\n",
    "df['result'] = result\n",
    "# 使用median函数来求得该列的中位数\n",
    "df.median()"
   ]
  },
  {
   "cell_type": "code",
   "execution_count": 42,
   "id": "a58f2be7",
   "metadata": {},
   "outputs": [
    {
     "name": "stdout",
     "output_type": "stream",
     "text": [
      "5 years\n"
     ]
    }
   ],
   "source": [
    "# 创建要填补的字符串“5 years”\n",
    "replace_str = str(int(df.median())) + \" years\"\n",
    "# 打印字符串\n",
    "print(replace_str)"
   ]
  },
  {
   "cell_type": "code",
   "execution_count": 43,
   "id": "d290a4af",
   "metadata": {},
   "outputs": [
    {
     "data": {
      "text/plain": [
       "0"
      ]
     },
     "execution_count": 43,
     "metadata": {},
     "output_type": "execute_result"
    }
   ],
   "source": [
    "# 使用fillna()函数来填补缺失值\n",
    "dataset_copy['emp_length'].fillna(replace_str, inplace=True)\n",
    "# 查看本列的缺失值数量\n",
    "dataset_copy['emp_length'].isnull().sum()"
   ]
  },
  {
   "attachments": {},
   "cell_type": "markdown",
   "id": "61220013",
   "metadata": {},
   "source": [
    "### 3.3.3均值填补"
   ]
  },
  {
   "cell_type": "code",
   "execution_count": 45,
   "id": "dd9d1273",
   "metadata": {},
   "outputs": [
    {
     "data": {
      "text/plain": [
       "69.15476942514213"
      ]
     },
     "execution_count": 45,
     "metadata": {},
     "output_type": "execute_result"
    }
   ],
   "source": [
    "dataset_copy['il_util'].mean()"
   ]
  },
  {
   "cell_type": "code",
   "execution_count": 46,
   "id": "70d107f4",
   "metadata": {},
   "outputs": [
    {
     "data": {
      "text/plain": [
       "0"
      ]
     },
     "execution_count": 46,
     "metadata": {},
     "output_type": "execute_result"
    }
   ],
   "source": [
    "# 使用均值填补贷款帐户的当前总余额占信用限额的比例\n",
    "dataset_copy['il_util'].fillna(dataset_copy['il_util'].mean(), inplace=True)\n",
    "# 查看本列的缺失值数量\n",
    "dataset_copy['il_util'].isnull().sum()"
   ]
  },
  {
   "attachments": {},
   "cell_type": "markdown",
   "id": "04a74483",
   "metadata": {},
   "source": [
    "### 3.3.4众数填补"
   ]
  },
  {
   "cell_type": "code",
   "execution_count": 71,
   "id": "588745d6",
   "metadata": {
    "scrolled": true
   },
   "outputs": [
    {
     "data": {
      "text/plain": [
       "0    1\n",
       "1    2\n",
       "2    3\n",
       "Name: code, dtype: int64"
      ]
     },
     "execution_count": 71,
     "metadata": {},
     "output_type": "execute_result"
    }
   ],
   "source": [
    "dataset = pd.read_csv(\"D:/input/moreMode.csv\", encoding=\"UTF-8\",low_memory=False)\n",
    "dataset.head(10)\n",
    "dataset[\"code\"].mode()"
   ]
  },
  {
   "cell_type": "code",
   "execution_count": 72,
   "id": "fef6563d",
   "metadata": {},
   "outputs": [
    {
     "data": {
      "text/plain": [
       "0    1.0\n",
       "Name: mths_since_recent_inq, dtype: float64"
      ]
     },
     "execution_count": 72,
     "metadata": {},
     "output_type": "execute_result"
    }
   ],
   "source": [
    "dataset_copy['mths_since_recent_inq'].mode()"
   ]
  },
  {
   "cell_type": "code",
   "execution_count": 73,
   "id": "62728a12",
   "metadata": {},
   "outputs": [
    {
     "name": "stdout",
     "output_type": "stream",
     "text": [
      "0\n"
     ]
    }
   ],
   "source": [
    "# 距离上一次调查的时间用众数填补\n",
    "dataset_copy['mths_since_recent_inq'].fillna(dataset_copy['mths_since_recent_inq'].mode()[0], inplace=True)\n",
    "# 查看本列的缺失值数量\n",
    "print(dataset_copy['mths_since_recent_inq'].isnull().sum())"
   ]
  },
  {
   "attachments": {},
   "cell_type": "markdown",
   "id": "806bbb80",
   "metadata": {},
   "source": [
    "### 3.3.5使用字典进行快速填补"
   ]
  },
  {
   "cell_type": "code",
   "execution_count": null,
   "id": "c7f2885c",
   "metadata": {},
   "outputs": [],
   "source": [
    "dataset_copy_2 = dataset.copy()"
   ]
  },
  {
   "attachments": {},
   "cell_type": "markdown",
   "id": "5239a189",
   "metadata": {},
   "source": [
    "## 3.4向前向后与插值法进行缺失值的填补\n",
    "### 3.4.1属性查看"
   ]
  },
  {
   "cell_type": "code",
   "execution_count": 58,
   "id": "3c618a05",
   "metadata": {},
   "outputs": [
    {
     "name": "stdout",
     "output_type": "stream",
     "text": [
      "需要填补的缺失值的列为: ['next_pymnt_d', 'mths_since_rcnt_il', 'mo_sin_old_il_acct']\n"
     ]
    }
   ],
   "source": [
    "less_null_index = list(na_ratio[(na_ratio['NA_Ratio'] <= 4) & (na_ratio['NA_Ratio'] >= 2.5)].index)\n",
    "print(\"需要填补的缺失值的列为:\", less_null_index)"
   ]
  },
  {
   "cell_type": "code",
   "execution_count": 59,
   "id": "d54e86d8",
   "metadata": {},
   "outputs": [
    {
     "name": "stdout",
     "output_type": "stream",
     "text": [
      "  next_pymnt_d  mths_since_rcnt_il  mo_sin_old_il_acct\n",
      "0       19-Dec                35.0               171.0\n",
      "1       19-Dec                16.0               163.0\n",
      "2       19-Dec                48.0               108.0\n",
      "3       19-Dec                 5.0               176.0\n",
      "4       19-Dec                20.0               108.0\n"
     ]
    }
   ],
   "source": [
    "# 查看此三列前五行的信息\n",
    "print(dataset_copy[less_null_index].head(5))"
   ]
  },
  {
   "cell_type": "code",
   "execution_count": 60,
   "id": "e210347c",
   "metadata": {},
   "outputs": [
    {
     "name": "stdout",
     "output_type": "stream",
     "text": [
      "next_pymnt_d           object\n",
      "mths_since_rcnt_il    float64\n",
      "mo_sin_old_il_acct    float64\n",
      "dtype: object\n"
     ]
    }
   ],
   "source": [
    "print(dataset_copy[less_null_index].dtypes)"
   ]
  },
  {
   "attachments": {},
   "cell_type": "markdown",
   "id": "cda637e0",
   "metadata": {},
   "source": [
    "### 3.4.2后值向前填补"
   ]
  },
  {
   "cell_type": "code",
   "execution_count": 61,
   "id": "e1d77786",
   "metadata": {},
   "outputs": [
    {
     "data": {
      "text/plain": [
       "490    19-Dec\n",
       "491       NaN\n",
       "492    19-Dec\n",
       "493    19-Dec\n",
       "494    19-Dec\n",
       "495    19-Dec\n",
       "496    19-Dec\n",
       "497    19-Dec\n",
       "498    19-Dec\n",
       "499    19-Dec\n",
       "500    19-Dec\n",
       "501       NaN\n",
       "502    19-Dec\n",
       "503    19-Dec\n",
       "504    19-Dec\n",
       "505    19-Dec\n",
       "506    19-Dec\n",
       "507    19-Dec\n",
       "508    19-Dec\n",
       "509    19-Dec\n",
       "Name: next_pymnt_d, dtype: object"
      ]
     },
     "execution_count": 61,
     "metadata": {},
     "output_type": "execute_result"
    }
   ],
   "source": [
    "dataset_copy['next_pymnt_d'][490:510]"
   ]
  },
  {
   "cell_type": "code",
   "execution_count": 62,
   "id": "032ece6d",
   "metadata": {},
   "outputs": [
    {
     "name": "stdout",
     "output_type": "stream",
     "text": [
      "250    19-Dec\n",
      "251    19-Dec\n",
      "252    19-Dec\n",
      "253    19-Dec\n",
      "254    19-Dec\n",
      "255    19-Dec\n",
      "256    19-Dec\n",
      "257    19-Dec\n",
      "258    19-Dec\n",
      "259    19-Dec\n",
      "260    19-Dec\n",
      "261    19-Dec\n",
      "262    19-Dec\n",
      "263    19-Dec\n",
      "264    19-Dec\n",
      "Name: next_pymnt_d, dtype: object\n"
     ]
    }
   ],
   "source": [
    "dataset_copy['next_pymnt_d'] = dataset_copy['next_pymnt_d'].fillna(method=\"bfill\")\n",
    "print(dataset_copy['next_pymnt_d'][250:265])"
   ]
  },
  {
   "cell_type": "code",
   "execution_count": 63,
   "id": "21532ff9",
   "metadata": {},
   "outputs": [
    {
     "name": "stdout",
     "output_type": "stream",
     "text": [
      "490    19-Dec\n",
      "491    19-Dec\n",
      "492    19-Dec\n",
      "493    19-Dec\n",
      "494    19-Dec\n",
      "495    19-Dec\n",
      "496    19-Dec\n",
      "497    19-Dec\n",
      "498    19-Dec\n",
      "499    19-Dec\n",
      "500    19-Dec\n",
      "501    19-Dec\n",
      "502    19-Dec\n",
      "503    19-Dec\n",
      "504    19-Dec\n",
      "505    19-Dec\n",
      "506    19-Dec\n",
      "507    19-Dec\n",
      "508    19-Dec\n",
      "509    19-Dec\n",
      "Name: next_pymnt_d, dtype: object\n"
     ]
    }
   ],
   "source": [
    "print(dataset_copy['next_pymnt_d'][490:510])"
   ]
  },
  {
   "attachments": {},
   "cell_type": "markdown",
   "id": "fe0054e8",
   "metadata": {},
   "source": [
    "### 3.4.3前值向后填补"
   ]
  },
  {
   "cell_type": "code",
   "execution_count": 64,
   "id": "7e97f4d4",
   "metadata": {},
   "outputs": [
    {
     "data": {
      "text/plain": [
       "6     NaN\n",
       "66    NaN\n",
       "70    NaN\n",
       "138   NaN\n",
       "151   NaN\n",
       "156   NaN\n",
       "163   NaN\n",
       "189   NaN\n",
       "199   NaN\n",
       "211   NaN\n",
       "Name: mths_since_rcnt_il, dtype: float64"
      ]
     },
     "execution_count": 64,
     "metadata": {},
     "output_type": "execute_result"
    }
   ],
   "source": [
    "dataset_copy['mths_since_rcnt_il'][dataset_copy['mths_since_rcnt_il'].isnull()].head(10)"
   ]
  },
  {
   "cell_type": "code",
   "execution_count": 65,
   "id": "ce3295a3",
   "metadata": {
    "scrolled": true
   },
   "outputs": [
    {
     "name": "stdout",
     "output_type": "stream",
     "text": [
      "150    108.0\n",
      "151      NaN\n",
      "152     83.0\n",
      "153     45.0\n",
      "154    122.0\n",
      "155    103.0\n",
      "156      NaN\n",
      "157    100.0\n",
      "158    141.0\n",
      "159    101.0\n",
      "160    121.0\n",
      "161    172.0\n",
      "162    170.0\n",
      "163      NaN\n",
      "164    109.0\n",
      "Name: mo_sin_old_il_acct, dtype: float64\n"
     ]
    }
   ],
   "source": [
    "# 原数据\n",
    "print(dataset_copy['mo_sin_old_il_acct'][150:165])"
   ]
  },
  {
   "cell_type": "code",
   "execution_count": 66,
   "id": "ea661e6f",
   "metadata": {},
   "outputs": [
    {
     "name": "stdout",
     "output_type": "stream",
     "text": [
      "150    10.0\n",
      "151    10.0\n",
      "152    83.0\n",
      "153    16.0\n",
      "154     2.0\n",
      "155     3.0\n",
      "156     3.0\n",
      "157     1.0\n",
      "158    14.0\n",
      "159    19.0\n",
      "160     2.0\n",
      "161     3.0\n",
      "162     3.0\n",
      "163     3.0\n",
      "164    16.0\n",
      "Name: mths_since_rcnt_il, dtype: float64\n"
     ]
    }
   ],
   "source": [
    "# 进行填补，对比\n",
    "dataset_copy['mths_since_rcnt_il'] = dataset_copy['mths_since_rcnt_il'].fillna(method=\"pad\")\n",
    "print(dataset_copy['mths_since_rcnt_il'][150:165])"
   ]
  },
  {
   "attachments": {},
   "cell_type": "markdown",
   "id": "2f86514c",
   "metadata": {},
   "source": [
    "### 3.4.4插值填补"
   ]
  },
  {
   "attachments": {},
   "cell_type": "markdown",
   "id": "bce46510",
   "metadata": {},
   "source": [
    "#### 3.4.4.1线性插值"
   ]
  },
  {
   "cell_type": "code",
   "execution_count": 67,
   "id": "c36bcbaf",
   "metadata": {},
   "outputs": [
    {
     "data": {
      "text/plain": [
       "6     NaN\n",
       "66    NaN\n",
       "70    NaN\n",
       "138   NaN\n",
       "151   NaN\n",
       "156   NaN\n",
       "163   NaN\n",
       "189   NaN\n",
       "199   NaN\n",
       "211   NaN\n",
       "Name: mo_sin_old_il_acct, dtype: float64"
      ]
     },
     "execution_count": 67,
     "metadata": {},
     "output_type": "execute_result"
    }
   ],
   "source": [
    "dataset_copy['mo_sin_old_il_acct'][dataset_copy['mo_sin_old_il_acct'].isnull()].head(10)"
   ]
  },
  {
   "cell_type": "code",
   "execution_count": 68,
   "id": "416142c6",
   "metadata": {},
   "outputs": [
    {
     "name": "stdout",
     "output_type": "stream",
     "text": [
      "150    108.0\n",
      "151     95.5\n",
      "152     83.0\n",
      "153     45.0\n",
      "154    122.0\n",
      "155    103.0\n",
      "156    101.5\n",
      "157    100.0\n",
      "158    141.0\n",
      "159    101.0\n",
      "160    121.0\n",
      "161    172.0\n",
      "162    170.0\n",
      "163    139.5\n",
      "164    109.0\n",
      "Name: mo_sin_old_il_acct, dtype: float64\n"
     ]
    }
   ],
   "source": [
    "dataset_copy['mo_sin_old_il_acct'][150:165]\n",
    "# 进行线性插值，对比数据\n",
    "dataset_copy['mo_sin_old_il_acct'] = dataset_copy['mo_sin_old_il_acct'].interpolate()\n",
    "# 打印150-165行填充后此列的值\n",
    "print(dataset_copy['mo_sin_old_il_acct'][150:165])"
   ]
  },
  {
   "cell_type": "code",
   "execution_count": 69,
   "id": "b92ac0b1",
   "metadata": {},
   "outputs": [
    {
     "name": "stdout",
     "output_type": "stream",
     "text": [
      "缺失值列为: ['bc_open_to_buy', 'bc_util', 'mths_since_recent_bc', 'percent_bc_gt_75']\n"
     ]
    }
   ],
   "source": [
    "# 选取部分列作为备选，方便接下来进行处理\n",
    "null_index = list(na_ratio[(na_ratio['NA_Ratio'] >= 1) & (na_ratio['NA_Ratio'] < 2.5)].index)\n",
    "print(\"缺失值列为:\", null_index)"
   ]
  },
  {
   "attachments": {},
   "cell_type": "markdown",
   "id": "9e3b174b",
   "metadata": {},
   "source": [
    "#### 3.4.4.2多项式插值"
   ]
  },
  {
   "cell_type": "code",
   "execution_count": 70,
   "id": "70428d87",
   "metadata": {},
   "outputs": [
    {
     "data": {
      "text/plain": [
       "485    10343.000000\n",
       "486     9139.000000\n",
       "487     8139.000000\n",
       "488    10662.000000\n",
       "489    24986.611923\n",
       "490    28538.000000\n",
       "491     5220.000000\n",
       "492     1333.578571\n",
       "493     5966.000000\n",
       "494     1335.000000\n",
       "495     2653.000000\n",
       "496    48263.000000\n",
       "497    24618.000000\n",
       "498     6942.000000\n",
       "499    15630.000000\n",
       "Name: bc_open_to_buy, dtype: float64"
      ]
     },
     "execution_count": 70,
     "metadata": {},
     "output_type": "execute_result"
    }
   ],
   "source": [
    "dataset_copy['bc_open_to_buy'][485:500]\n",
    "dataset_copy['bc_open_to_buy'].interpolate(method = \"polynomial\", order = 2, inplace=True)\n",
    "dataset_copy['bc_open_to_buy'][485:500]"
   ]
  },
  {
   "attachments": {},
   "cell_type": "markdown",
   "id": "7db4aa9e",
   "metadata": {},
   "source": [
    "#### 3.4.4.3样条插值"
   ]
  },
  {
   "cell_type": "code",
   "execution_count": 74,
   "id": "d5f5d47b",
   "metadata": {},
   "outputs": [
    {
     "data": {
      "text/plain": [
       "485    53.0\n",
       "486    39.5\n",
       "487    88.4\n",
       "488    39.1\n",
       "489     NaN\n",
       "490    54.2\n",
       "491    75.3\n",
       "492     NaN\n",
       "493    78.1\n",
       "494    73.8\n",
       "495    58.5\n",
       "496    24.0\n",
       "497    50.0\n",
       "498    45.3\n",
       "499    32.5\n",
       "Name: bc_util, dtype: float64"
      ]
     },
     "execution_count": 74,
     "metadata": {},
     "output_type": "execute_result"
    }
   ],
   "source": [
    "dataset_copy['bc_util'][485:500]"
   ]
  },
  {
   "cell_type": "code",
   "execution_count": null,
   "id": "0cc60017",
   "metadata": {},
   "outputs": [
    {
     "data": {
      "text/plain": [
       "485    53.000000\n",
       "486    39.500000\n",
       "487    88.400000\n",
       "488    39.100000\n",
       "489    26.047041\n",
       "490    54.200000\n",
       "491    75.300000\n",
       "492    79.569911\n",
       "493    78.100000\n",
       "494    73.800000\n",
       "495    58.500000\n",
       "496    24.000000\n",
       "497    50.000000\n",
       "498    45.300000\n",
       "499    32.500000\n",
       "Name: bc_util, dtype: float64"
      ]
     },
     "metadata": {},
     "output_type": "display_data"
    }
   ],
   "source": [
    "dataset_copy['bc_util'].interpolate(method=\"spline\",order=3,inplace=True)\n",
    "dataset_copy['bc_util'][485:500]"
   ]
  },
  {
   "cell_type": "code",
   "execution_count": null,
   "id": "99921289",
   "metadata": {},
   "outputs": [],
   "source": [
    "# 剩下的所有列的缺失值进行简单的向前填补处理\n",
    "dataset_copy.fillna(method=\"bfill\", inplace=True)"
   ]
  },
  {
   "cell_type": "code",
   "execution_count": null,
   "id": "f3e7aafa",
   "metadata": {},
   "outputs": [
    {
     "data": {
      "text/plain": [
       "0"
      ]
     },
     "metadata": {},
     "output_type": "display_data"
    }
   ],
   "source": [
    "dataset_copy.isnull().sum().sum()"
   ]
  },
  {
   "attachments": {},
   "cell_type": "markdown",
   "id": "2bc3c5e0",
   "metadata": {},
   "source": [
    "# 4异常值处理"
   ]
  },
  {
   "cell_type": "code",
   "execution_count": null,
   "id": "eabbf82f",
   "metadata": {},
   "outputs": [
    {
     "data": {
      "text/plain": [
       "count    143035.000000\n",
       "mean         19.007061\n",
       "std          23.287769\n",
       "min           0.000000\n",
       "25%           6.000000\n",
       "50%          12.000000\n",
       "75%          22.000000\n",
       "max         454.000000\n",
       "Name: mths_since_rcnt_il, dtype: float64"
      ]
     },
     "metadata": {},
     "output_type": "display_data"
    }
   ],
   "source": [
    "dataset_copy['mths_since_rcnt_il'].describe()"
   ]
  },
  {
   "cell_type": "code",
   "execution_count": null,
   "id": "01e0af36",
   "metadata": {},
   "outputs": [
    {
     "data": {
      "image/png": "[encoded data removed]",
      "text/plain": [
       "<Figure size 640x480 with 1 Axes>"
      ]
     },
     "metadata": {},
     "output_type": "display_data"
    }
   ],
   "source": [
    "sns.set(style=\"whitegrid\", color_codes=True)\n",
    "sns.boxplot(x='mths_since_rcnt_il', data=dataset_copy)\n",
    "plt.show()"
   ]
  },
  {
   "cell_type": "code",
   "execution_count": null,
   "id": "8fb8895c",
   "metadata": {},
   "outputs": [
    {
     "data": {
      "text/plain": [
       "12549     431.0\n",
       "17363     382.0\n",
       "21074     327.0\n",
       "21592     401.0\n",
       "32163     445.0\n",
       "51196     406.0\n",
       "65111     426.0\n",
       "69109     316.0\n",
       "69876     367.0\n",
       "81846     340.0\n",
       "82736     344.0\n",
       "87536     347.0\n",
       "99514     366.0\n",
       "107050    387.0\n",
       "111815    454.0\n",
       "123497    407.0\n",
       "129483    319.0\n",
       "Name: mths_since_rcnt_il, dtype: float64"
      ]
     },
     "metadata": {},
     "output_type": "display_data"
    }
   ],
   "source": [
    "dataset_copy['mths_since_rcnt_il'][dataset_copy['mths_since_rcnt_il']>300]"
   ]
  },
  {
   "cell_type": "code",
   "execution_count": null,
   "id": "b79f55d9",
   "metadata": {},
   "outputs": [
    {
     "name": "stdout",
     "output_type": "stream",
     "text": [
      "删除异常值之前的行数 143035\n",
      "删除异常值之后的行数 143018\n"
     ]
    }
   ],
   "source": [
    "print(\"删除异常值之前的行数\",len(dataset_copy['mths_since_rcnt_il']))\n",
    "dataset_copy.drop(list(dataset_copy['mths_since_rcnt_il'][dataset_copy['mths_since_rcnt_il']>300].index),axis=0,inplace=True)\n",
    "print(\"删除异常值之后的行数\",len(dataset_copy['mths_since_rcnt_il']))"
   ]
  },
  {
   "cell_type": "code",
   "execution_count": null,
   "id": "c786f00c",
   "metadata": {},
   "outputs": [
    {
     "data": {
      "text/html": [
       "<div>\n",
       "<style scoped>\n",
       "    .dataframe tbody tr th:only-of-type {\n",
       "        vertical-align: middle;\n",
       "    }\n",
       "\n",
       "    .dataframe tbody tr th {\n",
       "        vertical-align: top;\n",
       "    }\n",
       "\n",
       "    .dataframe thead th {\n",
       "        text-align: right;\n",
       "    }\n",
       "</style>\n",
       "<table border=\"1\" class=\"dataframe\">\n",
       "  <thead>\n",
       "    <tr style=\"text-align: right;\">\n",
       "      <th></th>\n",
       "      <th>id</th>\n",
       "      <th>loan_amnt</th>\n",
       "      <th>funded_amnt</th>\n",
       "      <th>funded_amnt_inv</th>\n",
       "      <th>term</th>\n",
       "      <th>int_rate</th>\n",
       "      <th>installment</th>\n",
       "      <th>grade</th>\n",
       "      <th>sub_grade</th>\n",
       "      <th>emp_title</th>\n",
       "      <th>...</th>\n",
       "      <th>pct_tl_nvr_dlq</th>\n",
       "      <th>percent_bc_gt_75</th>\n",
       "      <th>pub_rec_bankruptcies</th>\n",
       "      <th>tax_liens</th>\n",
       "      <th>tot_hi_cred_lim</th>\n",
       "      <th>total_bal_ex_mort</th>\n",
       "      <th>total_bc_limit</th>\n",
       "      <th>total_il_high_credit_limit</th>\n",
       "      <th>hardship_flag</th>\n",
       "      <th>debt_settlement_flag</th>\n",
       "    </tr>\n",
       "  </thead>\n",
       "  <tbody>\n",
       "  </tbody>\n",
       "</table>\n",
       "<p>0 rows × 107 columns</p>\n",
       "</div>"
      ],
      "text/plain": [
       "Empty DataFrame\n",
       "Columns: [id, loan_amnt, funded_amnt, funded_amnt_inv, term, int_rate, installment, grade, sub_grade, emp_title, emp_length, home_ownership, annual_inc, verification_status, issue_d, loan_status, pymnt_plan, url, purpose, title, zip_code, addr_state, dti, delinq_2yrs, earliest_cr_line, fico_range_low, fico_range_high, inq_last_6mths, open_acc, pub_rec, revol_bal, revol_util, total_acc, initial_list_status, out_prncp, out_prncp_inv, total_pymnt, total_pymnt_inv, total_rec_prncp, total_rec_int, total_rec_late_fee, recoveries, collection_recovery_fee, last_pymnt_d, last_pymnt_amnt, next_pymnt_d, last_credit_pull_d, last_fico_range_high, last_fico_range_low, collections_12_mths_ex_med, policy_code, application_type, acc_now_delinq, tot_coll_amt, tot_cur_bal, open_acc_6m, open_act_il, open_il_12m, open_il_24m, mths_since_rcnt_il, total_bal_il, il_util, open_rv_12m, open_rv_24m, max_bal_bc, all_util, total_rev_hi_lim, inq_fi, total_cu_tl, inq_last_12m, acc_open_past_24mths, avg_cur_bal, bc_open_to_buy, bc_util, chargeoff_within_12_mths, delinq_amnt, mo_sin_old_il_acct, mo_sin_old_rev_tl_op, mo_sin_rcnt_rev_tl_op, mo_sin_rcnt_tl, mort_acc, mths_since_recent_bc, mths_since_recent_inq, num_accts_ever_120_pd, num_actv_bc_tl, num_actv_rev_tl, num_bc_sats, num_bc_tl, num_il_tl, num_op_rev_tl, num_rev_accts, num_rev_tl_bal_gt_0, num_sats, num_tl_120dpd_2m, num_tl_30dpd, num_tl_90g_dpd_24m, num_tl_op_past_12m, pct_tl_nvr_dlq, percent_bc_gt_75, pub_rec_bankruptcies, ...]\n",
       "Index: []\n",
       "\n",
       "[0 rows x 107 columns]"
      ]
     },
     "metadata": {},
     "output_type": "display_data"
    }
   ],
   "source": [
    "dataset_copy.reset_index(inplace=True)\n",
    "dataset_copy.drop('index',axis=1,inplace=True)\n",
    "dataset_copy[dataset_copy.duplicated]"
   ]
  },
  {
   "attachments": {},
   "cell_type": "markdown",
   "id": "4657c047",
   "metadata": {},
   "source": [
    "# 5重复值处理"
   ]
  },
  {
   "cell_type": "code",
   "execution_count": null,
   "id": "639ba1c3",
   "metadata": {},
   "outputs": [
    {
     "name": "stdout",
     "output_type": "stream",
     "text": [
      "随机选择的行为： 72661\n"
     ]
    }
   ],
   "source": [
    "random_number=np.random.randint(0,len(dataset_copy['loan_amnt']))\n",
    "print(\"随机选择的行为：\",random_number)"
   ]
  },
  {
   "cell_type": "code",
   "execution_count": null,
   "id": "ee5aadd6",
   "metadata": {},
   "outputs": [
    {
     "name": "stdout",
     "output_type": "stream",
     "text": [
      "粘帖前的行数为： 143018\n",
      "粘帖后的行数为： 143019\n"
     ]
    }
   ],
   "source": [
    "print(\"粘帖前的行数为：\",len(dataset_copy['loan_amnt']))\n",
    "duplicated_row=dataset_copy.iloc[random_number]\n",
    "dataset_copy.loc[len(dataset_copy['loan_amnt'])]=duplicated_row\n",
    "print(\"粘帖后的行数为：\",len(dataset_copy['loan_amnt']))"
   ]
  },
  {
   "cell_type": "code",
   "execution_count": null,
   "id": "70aa629b",
   "metadata": {},
   "outputs": [],
   "source": [
    "dataset_copy[dataset_copy.duplicated()]"
   ]
  },
  {
   "cell_type": "code",
   "execution_count": null,
   "id": "32907e57",
   "metadata": {},
   "outputs": [],
   "source": [
    "dataset_copy.drop_duplicates(keep='first',inplace=True)\n",
    "dataset_copy[dataset_copy.duplicated()]"
   ]
  },
  {
   "cell_type": "code",
   "execution_count": null,
   "id": "5ad4d4e3",
   "metadata": {},
   "outputs": [
    {
     "data": {
      "text/plain": [
       "0    12000\n",
       "1    20000\n",
       "2    18000\n",
       "3    10000\n",
       "4     7000\n",
       "5    24000\n",
       "6     4000\n",
       "7    22975\n",
       "8     4000\n",
       "9    34025\n",
       "Name: loan_amnt, dtype: int64"
      ]
     },
     "metadata": {},
     "output_type": "display_data"
    }
   ],
   "source": [
    "dataset_copy['loan_amnt'].head(10)"
   ]
  },
  {
   "cell_type": "code",
   "execution_count": null,
   "id": "d9b45d32",
   "metadata": {},
   "outputs": [
    {
     "data": {
      "text/plain": [
       "0   -0.423522\n",
       "1    0.349594\n",
       "2    0.156315\n",
       "3   -0.616800\n",
       "4   -0.906719\n",
       "5    0.736152\n",
       "6   -1.196637\n",
       "7    0.637097\n",
       "8   -1.196637\n",
       "9    1.704963\n",
       "Name: loan_amnt, dtype: float64"
      ]
     },
     "metadata": {},
     "output_type": "display_data"
    }
   ],
   "source": [
    "std_scale=preprocessing.StandardScaler().fit(dataset_copy[['loan_amnt']])\n",
    "np_std=std_scale.transform(dataset_copy[['loan_amnt']])\n",
    "dataset_copy[['loan_amnt']]=np_std\n",
    "dataset_copy['loan_amnt'].head(10)"
   ]
  },
  {
   "attachments": {},
   "cell_type": "markdown",
   "id": "305a8b6f",
   "metadata": {},
   "source": [
    "# 6数据标准化\n",
    "## 6.1 Z-score标准化"
   ]
  },
  {
   "cell_type": "code",
   "execution_count": null,
   "id": "01ea7788",
   "metadata": {},
   "outputs": [
    {
     "data": {
      "text/plain": [
       "0    12000\n",
       "1    20000\n",
       "2    18000\n",
       "3    10000\n",
       "4     7000\n",
       "5    24000\n",
       "6     4000\n",
       "7    22975\n",
       "8     4000\n",
       "9    34025\n",
       "Name: loan_amnt, dtype: int64"
      ]
     },
     "metadata": {},
     "output_type": "display_data"
    }
   ],
   "source": [
    "dataset_copy['loan_amnt'].head(10)"
   ]
  },
  {
   "cell_type": "code",
   "execution_count": null,
   "id": "0b511fd4",
   "metadata": {},
   "outputs": [],
   "source": [
    "dataset_copy['loan_amnt'].head(10)"
   ]
  },
  {
   "cell_type": "code",
   "execution_count": null,
   "id": "e2440fdb",
   "metadata": {},
   "outputs": [],
   "source": [
    "# z-score标准化，适配数据集获取参数\n",
    "std_scale = preprocessing.StandardScaler().fit(dataset_copy[['loan_amnt']])\n",
    "# 进行标准化，得到标准化的数据\n",
    "np_std = std_scale.transform(dataset_copy[['loan_amnt']])\n",
    "# 将标准化后的数据加到dataset_copy中，替换初始数据\n",
    "dataset_copy[['loan_amnt']] = np_std\n",
    "# 查看此列标准化后的数据\n",
    "dataset_copy['loan_amnt'].head(10)"
   ]
  },
  {
   "attachments": {},
   "cell_type": "markdown",
   "id": "05955b03",
   "metadata": {},
   "source": [
    "## 6.2 Min-Max标准化（0-1标准化）"
   ]
  },
  {
   "cell_type": "code",
   "execution_count": null,
   "id": "38d0ef83",
   "metadata": {},
   "outputs": [
    {
     "data": {
      "text/plain": [
       "0    12000\n",
       "1    20000\n",
       "2    18000\n",
       "3    10000\n",
       "4     7000\n",
       "5    24000\n",
       "6     4000\n",
       "7    22975\n",
       "8     4000\n",
       "9    34025\n",
       "Name: funded_amnt, dtype: int64"
      ]
     },
     "metadata": {},
     "output_type": "display_data"
    }
   ],
   "source": [
    "dataset_copy['funded_amnt'].head(10)"
   ]
  },
  {
   "cell_type": "code",
   "execution_count": null,
   "id": "ac548ab8",
   "metadata": {},
   "outputs": [
    {
     "data": {
      "text/plain": [
       "0    0.282051\n",
       "1    0.487179\n",
       "2    0.435897\n",
       "3    0.230769\n",
       "4    0.153846\n",
       "5    0.589744\n",
       "6    0.076923\n",
       "7    0.563462\n",
       "8    0.076923\n",
       "9    0.846795\n",
       "Name: funded_amnt, dtype: float64"
      ]
     },
     "metadata": {},
     "output_type": "display_data"
    }
   ],
   "source": [
    "minmax_scale=preprocessing.MinMaxScaler().fit(dataset_copy[['funded_amnt']])\n",
    "np_minmax=minmax_scale.transform(dataset_copy[['funded_amnt']])\n",
    "dataset_copy[['funded_amnt']]=np_minmax\n",
    "dataset_copy['funded_amnt'].head(10)"
   ]
  },
  {
   "attachments": {},
   "cell_type": "markdown",
   "id": "7d938a79",
   "metadata": {},
   "source": [
    "# 7数据编码\n",
    "## 7.1数字编码"
   ]
  },
  {
   "cell_type": "code",
   "execution_count": null,
   "id": "d957aad0",
   "metadata": {},
   "outputs": [
    {
     "data": {
      "text/plain": [
       "0        RENT\n",
       "1        RENT\n",
       "2        RENT\n",
       "3        RENT\n",
       "4        RENT\n",
       "5    MORTGAGE\n",
       "6        RENT\n",
       "7        RENT\n",
       "8        RENT\n",
       "9         OWN\n",
       "Name: home_ownership, dtype: object"
      ]
     },
     "metadata": {},
     "output_type": "display_data"
    }
   ],
   "source": [
    "dataset_copy['home_ownership'].head(10)"
   ]
  },
  {
   "cell_type": "code",
   "execution_count": null,
   "id": "2c201739",
   "metadata": {},
   "outputs": [],
   "source": [
    "col_dicts={'home_ownership':{'MORTGAGE':0,\n",
    "                            'OWN':1,\n",
    "                            'RENT':2,\n",
    "                            'others':3}}\n",
    "dataset_copy['home_ownership']=dataset_copy['home_ownership'].map(col_dicts['home_ownership'])"
   ]
  },
  {
   "cell_type": "code",
   "execution_count": null,
   "id": "db77fb94",
   "metadata": {},
   "outputs": [
    {
     "data": {
      "text/plain": [
       "0    2.0\n",
       "1    2.0\n",
       "2    2.0\n",
       "3    2.0\n",
       "4    2.0\n",
       "5    0.0\n",
       "6    2.0\n",
       "7    2.0\n",
       "8    2.0\n",
       "9    1.0\n",
       "Name: home_ownership, dtype: float64"
      ]
     },
     "metadata": {},
     "output_type": "display_data"
    }
   ],
   "source": [
    "dataset_copy['home_ownership'].head(10)"
   ]
  },
  {
   "attachments": {},
   "cell_type": "markdown",
   "id": "fb9857f4",
   "metadata": {},
   "source": [
    "## 7.2 one-hot编码"
   ]
  },
  {
   "cell_type": "code",
   "execution_count": null,
   "id": "f357c421",
   "metadata": {},
   "outputs": [
    {
     "data": {
      "text/plain": [
       "0    1\n",
       "1    0\n",
       "2    0\n",
       "3    0\n",
       "4    2\n",
       "5    3\n",
       "6    0\n",
       "7    0\n",
       "8    0\n",
       "9    0\n",
       "Name: delinq_2yrs, dtype: int64"
      ]
     },
     "metadata": {},
     "output_type": "display_data"
    }
   ],
   "source": [
    "dataset_copy['delinq_2yrs'].head(10)"
   ]
  },
  {
   "cell_type": "code",
   "execution_count": null,
   "id": "73c60c5b",
   "metadata": {},
   "outputs": [
    {
     "name": "stdout",
     "output_type": "stream",
     "text": [
      "[0. 1. 0. 0. 0. 0. 0. 0. 0. 0. 0. 0. 0. 0. 0. 0. 0. 0. 0. 0. 0. 0.]\n"
     ]
    }
   ],
   "source": [
    "targets = preprocessing.OneHotEncoder(sparse_output=False).fit_transform(dataset_copy[['delinq_2yrs']])\n",
    "print(targets[0])"
   ]
  },
  {
   "attachments": {},
   "cell_type": "markdown",
   "id": "3f2d0724",
   "metadata": {},
   "source": [
    "# 8数据保存\n",
    "## 8.1使用python原生方法"
   ]
  },
  {
   "cell_type": "code",
   "execution_count": null,
   "id": "3f3166b2",
   "metadata": {},
   "outputs": [],
   "source": [
    "fw = open(\"D:/output/finish.csv\",\"w\")"
   ]
  },
  {
   "cell_type": "code",
   "execution_count": null,
   "id": "f5eebdf2",
   "metadata": {},
   "outputs": [
    {
     "name": "stdout",
     "output_type": "stream",
     "text": [
      "id,loan_amnt,funded_amnt,funded_amnt_inv,term,int_rate,installment,grade,sub_grade,emp_title,emp_length,home_ownership,annual_inc,verification_status,issue_d,loan_status,pymnt_plan,url,purpose,title,zip_code,addr_state,dti,delinq_2yrs,earliest_cr_line,fico_range_low,fico_range_high,inq_last_6mths,open_acc,pub_rec,revol_bal,revol_util,total_acc,initial_list_status,out_prncp,out_prncp_inv,total_pymnt,total_pymnt_inv,total_rec_prncp,total_rec_int,total_rec_late_fee,recoveries,collection_recovery_fee,last_pymnt_d,last_pymnt_amnt,next_pymnt_d,last_credit_pull_d,last_fico_range_high,last_fico_range_low,collections_12_mths_ex_med,policy_code,application_type,acc_now_delinq,tot_coll_amt,tot_cur_bal,open_acc_6m,open_act_il,open_il_12m,open_il_24m,mths_since_rcnt_il,total_bal_il,il_util,open_rv_12m,open_rv_24m,max_bal_bc,all_util,total_rev_hi_lim,inq_fi,total_cu_tl,inq_last_12m,acc_open_past_24mths,avg_cur_bal,bc_open_to_buy,bc_util,chargeoff_within_12_mths,delinq_amnt,mo_sin_old_il_acct,mo_sin_old_rev_tl_op,mo_sin_rcnt_rev_tl_op,mo_sin_rcnt_tl,mort_acc,mths_since_recent_bc,mths_since_recent_inq,num_accts_ever_120_pd,num_actv_bc_tl,num_actv_rev_tl,num_bc_sats,num_bc_tl,num_il_tl,num_op_rev_tl,num_rev_accts,num_rev_tl_bal_gt_0,num_sats,num_tl_120dpd_2m,num_tl_30dpd,num_tl_90g_dpd_24m,num_tl_op_past_12m,pct_tl_nvr_dlq,percent_bc_gt_75,pub_rec_bankruptcies,tax_liens,tot_hi_cred_lim,total_bal_ex_mort,total_bc_limit,total_il_high_credit_limit,hardship_flag,debt_settlement_flag\n"
     ]
    },
    {
     "data": {
      "text/plain": [
       "1487"
      ]
     },
     "metadata": {},
     "output_type": "display_data"
    }
   ],
   "source": [
    "columns=list(dataset_copy.columns)\n",
    "columns_write=\"\"\n",
    "for column in columns:\n",
    "    columns_write=columns_write+\",\"+column\n",
    "columns_write=columns_write[1:]\n",
    "print(columns_write)\n",
    "fw.write(columns_write+\"\\n\")"
   ]
  },
  {
   "cell_type": "code",
   "execution_count": null,
   "id": "703c83a0",
   "metadata": {},
   "outputs": [
    {
     "name": "stdout",
     "output_type": "stream",
     "text": [
      "158303403,-0.4235215443721572,0.282051282051282,12000, 36 months,8.19%,377.09,A,A4,Teacher,10+ years,2.0,84000.0,Source Verified,19-Sep,Current,n,https://lendingclub.com/browse/loanDetail.action?loan_id=158303403,debt_consolidation,Debt consolidation,937xx,CA,10.86,1,Jan-96,680,684,0,5,0,22489,71.60%,15,w,11713.0,11713.0,371.63,371.63,287.0,84.63,0.0,0.0,0,19-Nov,377.09,19-Dec,19-Nov,699,695,0,1,Individual,0,0,51361,0,1,0,0,35.0,28872,69.15476942514213,0,0,5724,72.0,31400,0,3,0,0,10272.0,8440.0,48.5,0,0,171.0,284,44,35,0,44.0,22.0,0,2,3,3,4,10,4,5,3,5,0.0,0,0,0,93.3,33.3,0,0,77713,51361,16400,46313,N,N\n",
      "158628181,0.34959412852555244,0.4871794871794871,20000, 36 months,8.81%,634.23,A,A5,Remodel expert,3 years,2.0,44000.0,Not Verified,19-Sep,Current,n,https://lendingclub.com/browse/loanDetail.action?loan_id=158628181,debt_consolidation,Debt consolidation,891xx,NV,13.72,0,6-Feb,745,749,0,6,0,5435,21.80%,12,w,18947.67,18947.67,1258.67,1258.67,1052.33,206.34,0.0,0.0,0,19-Nov,634.23,19-Dec,19-Nov,764,760,0,1,Individual,0,0,11722,0,1,0,1,16.0,6287,63.0,2,2,2042,34.0,24900,1,0,0,3,1954.0,15077.0,20.2,0,0,163.0,161,7,7,0,7.0,16.0,0,3,4,3,4,5,5,7,4,6,0.0,0,0,2,100.0,0.0,0,0,34900,11722,18900,10000,N,N\n",
      "159231951,0.156315210301125,0.43589743589743585,18000, 60 months,13.08%,410.3,B,B5,Operations Supervisor,3 years,2.0,50000.0,Source Verified,19-Sep,Current,n,https://lendingclub.com/browse/loanDetail.action?loan_id=159231951,debt_consolidation,Debt consolidation,750xx,TX,14.47,0,10-Sep,660,664,0,13,0,13973,85.70%,13,w,17785.9,17785.9,397.22,397.22,214.1,183.12,0.0,0.0,0,19-Oct,410.3,19-Dec,19-Nov,684,680,0,1,Individual,0,0,43223,1,9,0,0,48.0,29250,95.0,2,2,10372,92.0,16300,0,0,2,2,3325.0,2052.0,86.3,0,0,108.0,40,1,1,0,1.0,8.0,0,3,4,3,3,9,4,4,4,13,0.0,0,0,2,100.0,33.3,0,0,47197,43223,15000,30897,N,N\n",
      "159289397,-0.6168004625965846,0.23076923076923075,10000, 36 months,10.33%,324.23,B,B1,workless,< 1 year,2.0,59300.0,Source Verified,19-Sep,Current,n,https://lendingclub.com/browse/loanDetail.action?loan_id=159289397,debt_consolidation,Debt consolidation,600xx,IL,19.81,0,5-Jan,720,724,0,17,1,3121,8.90%,20,w,9761.85,9761.85,318.49,318.49,238.15,80.34,0.0,0.0,0,19-Oct,324.23,19-Dec,19-Nov,719,715,0,1,Individual,0,740,25938,2,4,2,2,5.0,22817,52.0,2,6,1965,33.0,35000,4,0,5,8,1526.0,22988.0,11.9,0,0,176.0,82,4,4,0,4.0,5.0,1,5,8,8,9,5,13,15,8,17,0.0,0,0,4,94.4,0.0,1,0,78772,25938,26100,43772,N,N\n",
      "159296485,-0.9067188399332258,0.15384615384615385,7000, 36 months,18.62%,255.25,D,D1,Street sweeper,6 years,2.0,55000.0,Verified,19-Sep,Current,n,https://lendingclub.com/browse/loanDetail.action?loan_id=159296485,debt_consolidation,Debt consolidation,902xx,CA,16.98,2,10-Sep,670,674,0,8,0,4546,58.30%,19,w,6853.37,6853.37,248.01,248.01,146.63,101.38,0.0,0.0,0,19-Oct,255.25,19-Dec,19-Nov,709,705,0,1,Individual,0,0,36027,2,1,0,1,20.0,31481,69.15476942514213,3,4,1485,58.0,7800,0,0,1,5,4503.0,32.0,98.5,0,0,108.0,108,2,2,0,5.0,9.0,1,2,5,2,6,4,7,15,5,8,0.0,0,0,3,78.9,100.0,0,0,49928,36027,2200,42128,N,N\n"
     ]
    }
   ],
   "source": [
    "for i in range(0,len(dataset_copy['loan_amnt'])):\n",
    "    str_write=\"\"\n",
    "    for column in columns:\n",
    "        str_write=str_write+\",\"+str(dataset_copy[column][i])\n",
    "    str_write=str_write[1:]\n",
    "    if i<5:\n",
    "        print(str_write)\n",
    "    fw.write(str_write+\"\\n\")\n",
    "    fw.close()"
   ]
  },
  {
   "attachments": {},
   "cell_type": "markdown",
   "id": "3c5b52bb",
   "metadata": {},
   "source": [
    "## 8.2使用pandas中的函数"
   ]
  },
  {
   "cell_type": "code",
   "execution_count": null,
   "id": "7b012e2a",
   "metadata": {},
   "outputs": [],
   "source": [
    "dataset_copy.to_csv(\"D:/output/finish2.csv\",index = False)"
   ]
  }
 ],
 "metadata": {
  "kernelspec": {
   "display_name": "Python 3 (ipykernel)",
   "language": "python",
   "name": "python3"
  },
  "language_info": {
   "codemirror_mode": {
    "name": "ipython",
    "version": 3
   },
   "file_extension": ".py",
   "mimetype": "text/x-python",
   "name": "python",
   "nbconvert_exporter": "python",
   "pygments_lexer": "ipython3",
   "version": "3.10.9"
  }
 },
 "nbformat": 4,
 "nbformat_minor": 5
}
